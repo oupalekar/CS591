{
 "cells": [
  {
   "cell_type": "markdown",
   "metadata": {
    "id": "Whsg1XX_OZs6"
   },
   "source": [
    "# Boilerplate\n",
    "\n",
    "Package installation, loading, and dataloaders. There's also a simple model defined. You can change it your favourite architecture if you want."
   ]
  },
  {
   "cell_type": "code",
   "execution_count": 2,
   "metadata": {
    "id": "R1domTvnONqD"
   },
   "outputs": [
    {
     "data": {
      "text/plain": [
       "Net(\n",
       "  (linear_relu_stack): Sequential(\n",
       "    (0): Linear(in_features=784, out_features=50, bias=True)\n",
       "    (1): ReLU()\n",
       "    (2): Linear(in_features=50, out_features=50, bias=True)\n",
       "    (3): ReLU()\n",
       "    (4): Linear(in_features=50, out_features=50, bias=True)\n",
       "    (5): ReLU()\n",
       "    (6): Linear(in_features=50, out_features=10, bias=True)\n",
       "  )\n",
       ")"
      ]
     },
     "execution_count": 2,
     "metadata": {},
     "output_type": "execute_result"
    }
   ],
   "source": [
    "# !pip install tensorboardX\n",
    "\n",
    "import torch\n",
    "import torch.nn as nn\n",
    "import torch.optim as optim\n",
    "import torch.nn.functional as F\n",
    "import numpy as np\n",
    "import time\n",
    "import matplotlib.pyplot as plt\n",
    "\n",
    "from torchvision import datasets, transforms\n",
    "# from tensorboardX import SummaryWriter\n",
    "\n",
    "use_cuda = False\n",
    "device = torch.device(\"cuda\" if use_cuda else \"cpu\")\n",
    "batch_size = 64\n",
    "\n",
    "np.random.seed(42)\n",
    "torch.manual_seed(42)\n",
    "\n",
    "\n",
    "## Dataloaders\n",
    "train_dataset = datasets.MNIST('mnist_data/', train=True, download=True, transform=transforms.Compose(\n",
    "    [transforms.ToTensor()]\n",
    "))\n",
    "test_dataset = datasets.MNIST('mnist_data/', train=False, download=True, transform=transforms.Compose(\n",
    "    [transforms.ToTensor()]\n",
    "))\n",
    "\n",
    "train_loader = torch.utils.data.DataLoader(train_dataset, batch_size=batch_size, shuffle=True)\n",
    "test_loader = torch.utils.data.DataLoader(test_dataset, batch_size=batch_size, shuffle=False)\n",
    "\n",
    "## Simple NN. You can change this if you want. If you change it, mention the architectural details in your report.\n",
    "class Net(nn.Module):\n",
    "    def __init__(self):\n",
    "        super(Net, self).__init__()\n",
    "        self.linear_relu_stack = nn.Sequential(\n",
    "            nn.Linear(784, 50),\n",
    "            nn.ReLU(),\n",
    "            nn.Linear(50, 50),\n",
    "            nn.ReLU(),\n",
    "            nn.Linear(50, 50),\n",
    "            nn.ReLU(),\n",
    "            nn.Linear(50, 10))\n",
    "\n",
    "    def forward(self, x):\n",
    "        x = nn.Flatten()(x)\n",
    "        x = self.linear_relu_stack(x)\n",
    "        return x\n",
    "\n",
    "# Add the data normalization as a first \"layer\" to the network\n",
    "# this allows us to search for adverserial examples to the real image, rather than\n",
    "# to the normalized image\n",
    "model = Net()\n",
    "\n",
    "model = model.to(device)\n",
    "model.train()"
   ]
  },
  {
   "cell_type": "code",
   "execution_count": null,
   "metadata": {},
   "outputs": [],
   "source": [
    "# The last argument 'targeted' can be used to toggle between a targeted and untargeted attack.\n",
    "def fgsm(model, x, label, eps):\n",
    "    #TODO: implement this as an intermediate step of PGD\n",
    "    # Notes: put the model in eval() mode for this function\n",
    "    model.eval()\n",
    "    # x.requires_grad_()\n",
    "    output = model(x)\n",
    "    loss = F.cross_entropy(output, label)\n",
    "\n",
    "    grad = torch.autograd.grad(\n",
    "                loss, x, retain_graph=False, create_graph=False\n",
    "            )[0]\n",
    "\n",
    "    x_adv = x.detach() + eps * torch.sign(grad)\n",
    "    return x_adv\n",
    "\n",
    "\n",
    "\n",
    "def pgd_untargeted(model, x, y, k, eps, eps_step):\n",
    "    #TODO: implement this \n",
    "    # Notes: put the model in eval() mode for this function\n",
    "    \n",
    "    model.eval()\n",
    "    adv_images = x.clone().detach()\n",
    "    for _ in range(k):\n",
    "        adv_images.requires_grad = True\n",
    "        x_adv = fgsm(model, adv_images, y, eps_step)\n",
    "        delta = torch.clamp(x_adv - x, min=-eps, max=eps)\n",
    "        adv_images = torch.clamp(x + delta, min = 0, max = 1)\n",
    "    \n",
    "    return adv_images\n"
   ]
  },
  {
   "cell_type": "code",
   "execution_count": 12,
   "metadata": {
    "id": "V-sw8yKYONqQ"
   },
   "outputs": [],
   "source": [
    "def train_model(model, train_loader, num_epochs, enable_defense=True, attack='pgd', eps=0.1):\n",
    "    # TODO: implement this function that trains a given model on the MNIST dataset.\n",
    "    # this is a general-purpose function for both standard training and adversarial training.\n",
    "    # (toggle enable_defense parameter to switch between training schemes)\n",
    "    model.train()\n",
    "\n",
    "    lr = 1e-2\n",
    "    optimizer = torch.optim.SGD(model.parameters(), lr=lr, momentum=0.9)\n",
    "    for epoch in range(num_epochs):\n",
    "        for index, (images, labels) in enumerate(train_loader):\n",
    "            logits = model(images)\n",
    "            optimizer.zero_grad()\n",
    "\n",
    "            loss = F.cross_entropy(logits, labels)\n",
    "            loss.backward()\n",
    "            optimizer.step()\n",
    "\n",
    "        print(f'Epoch [{epoch}/{num_epochs}] Loss = {loss.item():.3f}')\n",
    "\n",
    "    # if enable_defense:\n",
    "    #         for epoch in range(num_epochs):\n",
    "    #             for index, (images, labels) in enumerate(train_loader):\n",
    "    #                 adversary_images = pgd_untargeted(model, images, labels, 10,  eps, 0.01)\n",
    "    #                 model.train()\n",
    "    #                 optimizer.zero_grad()\n",
    "    #                 logits = model(adversary_images)\n",
    "    #                 loss = F.cross_entropy(logits, labels)\n",
    "    #                 loss.backward()\n",
    "    #                 optimizer.step()\n",
    "                    \n",
    "    #             print(f'Epoch [{epoch}/{num_epochs}] Loss = {loss.item():.3f}')"
   ]
  },
  {
   "cell_type": "markdown",
   "metadata": {},
   "source": [
    "## Standard Training"
   ]
  },
  {
   "cell_type": "code",
   "execution_count": 13,
   "metadata": {
    "scrolled": true
   },
   "outputs": [
    {
     "name": "stdout",
     "output_type": "stream",
     "text": [
      "Epoch [0/30] Loss = 0.136\n",
      "Epoch [1/30] Loss = 0.074\n",
      "Epoch [2/30] Loss = 0.026\n",
      "Epoch [3/30] Loss = 0.106\n",
      "Epoch [4/30] Loss = 0.047\n",
      "Epoch [5/30] Loss = 0.035\n",
      "Epoch [6/30] Loss = 0.060\n",
      "Epoch [7/30] Loss = 0.212\n",
      "Epoch [8/30] Loss = 0.122\n",
      "Epoch [9/30] Loss = 0.128\n",
      "Epoch [10/30] Loss = 0.010\n",
      "Epoch [11/30] Loss = 0.002\n",
      "Epoch [12/30] Loss = 0.014\n",
      "Epoch [13/30] Loss = 0.008\n",
      "Epoch [14/30] Loss = 0.013\n",
      "Epoch [15/30] Loss = 0.001\n",
      "Epoch [16/30] Loss = 0.017\n",
      "Epoch [17/30] Loss = 0.004\n",
      "Epoch [18/30] Loss = 0.001\n",
      "Epoch [19/30] Loss = 0.001\n",
      "Epoch [20/30] Loss = 0.004\n",
      "Epoch [21/30] Loss = 0.056\n",
      "Epoch [22/30] Loss = 0.000\n",
      "Epoch [23/30] Loss = 0.007\n",
      "Epoch [24/30] Loss = 0.025\n",
      "Epoch [25/30] Loss = 0.001\n",
      "Epoch [26/30] Loss = 0.014\n",
      "Epoch [27/30] Loss = 0.000\n",
      "Epoch [28/30] Loss = 0.005\n",
      "Epoch [29/30] Loss = 0.000\n"
     ]
    }
   ],
   "source": [
    "## train the original model\n",
    "model = model.to(device)\n",
    "model.train()\n",
    "\n",
    "train_model(model, train_loader, 30, False)\n",
    "torch.save(model.state_dict(), 'standard-weights.pt')"
   ]
  },
  {
   "cell_type": "markdown",
   "metadata": {},
   "source": [
    "### Standard Accuracy"
   ]
  },
  {
   "cell_type": "code",
   "execution_count": 14,
   "metadata": {},
   "outputs": [
    {
     "name": "stdout",
     "output_type": "stream",
     "text": [
      "Accuracy = 97.37%\n"
     ]
    }
   ],
   "source": [
    "correct = 0\n",
    "model.eval()\n",
    "for j, (images, labels) in enumerate(test_loader):\n",
    "  images, labels = images, labels\n",
    "  logits = model(images)\n",
    "  _, preds = torch.max(logits, 1)\n",
    "  correct += (preds == labels).sum().item()\n",
    "  # print('Batch [{}/{}]'.format(j+1, len(test_loader)))\n",
    "model.train()\n",
    "print('Accuracy = {}%'.format(float(correct) * 100 / 10000))"
   ]
  },
  {
   "cell_type": "code",
   "execution_count": 43,
   "metadata": {},
   "outputs": [
    {
     "name": "stdout",
     "output_type": "stream",
     "text": [
      "Epsilon: 0.01, Accuracy: 0.0816\n",
      "Epsilon: 0.020000000000000004, Accuracy: 0.0794\n",
      "Epsilon: 0.030000000000000006, Accuracy: 0.0769\n",
      "Epsilon: 0.04000000000000001, Accuracy: 0.0752\n",
      "Epsilon: 0.05000000000000001, Accuracy: 0.0738\n",
      "Epsilon: 0.06000000000000001, Accuracy: 0.0720\n",
      "Epsilon: 0.07, Accuracy: 0.0708\n",
      "Epsilon: 0.08, Accuracy: 0.0686\n",
      "Epsilon: 0.09000000000000001, Accuracy: 0.0666\n",
      "Epsilon: 0.1, Accuracy: 0.0656\n"
     ]
    }
   ],
   "source": [
    "def interval_analysis(model: Net, inputs, epsilon):\n",
    "    inputs = inputs.view(inputs.size(0), -1)\n",
    "    lb = inputs - epsilon\n",
    "    ub = inputs + epsilon\n",
    "\n",
    "    layers = model.linear_relu_stack\n",
    "    for index in range(0,len(layers) - 1, 2):\n",
    "        layer = layers[index]\n",
    "        weight, bias = layer.weight, layer.bias\n",
    "\n",
    "        curr_lb = torch.matmul(lb, weight.t()) + bias\n",
    "        curr_ub = torch.matmul(ub, weight.t()) + bias\n",
    "        \n",
    "        curr_lb = torch.relu(curr_lb)\n",
    "        curr_ub = torch.relu(curr_ub)\n",
    "\n",
    "        lb = torch.minimum(curr_lb, curr_ub)\n",
    "        ub = torch.maximum(curr_lb, curr_ub)\n",
    "\n",
    "    layer = layers[-1]\n",
    "    weight, bias = layer.weight, layer.bias\n",
    "\n",
    "    curr_lb = torch.matmul(lb, weight.t()) + bias\n",
    "    curr_ub = torch.matmul(ub, weight.t()) + bias\n",
    "\n",
    "    lb = torch.minimum(curr_lb, curr_ub)\n",
    "    ub = torch.maximum(curr_lb, curr_ub)\n",
    "\n",
    "    return lb, ub\n",
    "\n",
    "def evaluate_robustness(model, test_loader, epsilons):\n",
    "    model.eval()\n",
    "    robust_accuracies  = []\n",
    "    with torch.no_grad():\n",
    "        for epsilon in epsilons:\n",
    "            correct = 0\n",
    "            total = 0\n",
    "            for j, (images, labels) in enumerate(test_loader):\n",
    "                lb, ub = interval_analysis(model, images, epsilon)\n",
    "                lb_values = lb[torch.arange(images.size(0)), labels]\n",
    "\n",
    "                mask = torch.full_like(ub, float('-inf'))\n",
    "                mask[torch.arange(images.size(0)), labels] = ub[torch.arange(images.size(0)), labels]\n",
    "                outputs_masked = torch.where(mask == ub, float('-inf'), ub)\n",
    "                max_values_excluding_class = outputs_masked.max(dim=1).values\n",
    "                \n",
    "                differences = lb_values > max_values_excluding_class\n",
    "                correct += differences.sum().item()\n",
    "                total += labels.size(0)\n",
    "            accuracy = correct / total\n",
    "            robust_accuracies.append(accuracy)\n",
    "            print(f\"Epsilon: {epsilon}, Accuracy: {accuracy:.4f}\")\n",
    "\n",
    "            # _, preds = torch.max(logits, 1)\n",
    "            # correct += (preds == labels).sum().item()\n",
    "epsilons = np.linspace(0.01, 0.1, 10)\n",
    "evaluate_robustness(model, test_loader, epsilons)"
   ]
  },
  {
   "cell_type": "code",
   "execution_count": null,
   "metadata": {},
   "outputs": [],
   "source": []
  }
 ],
 "metadata": {
  "colab": {
   "provenance": []
  },
  "kernelspec": {
   "display_name": "env",
   "language": "python",
   "name": "env"
  },
  "language_info": {
   "codemirror_mode": {
    "name": "ipython",
    "version": 3
   },
   "file_extension": ".py",
   "mimetype": "text/x-python",
   "name": "python",
   "nbconvert_exporter": "python",
   "pygments_lexer": "ipython3",
   "version": "3.12.2"
  }
 },
 "nbformat": 4,
 "nbformat_minor": 1
}

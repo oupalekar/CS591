{
 "cells": [
  {
   "cell_type": "markdown",
   "metadata": {
    "id": "Whsg1XX_OZs6"
   },
   "source": [
    "# Boilerplate\n",
    "\n",
    "Package installation, loading, and dataloaders. There's also a simple model defined. You can change it your favourite architecture if you want."
   ]
  },
  {
   "cell_type": "code",
   "execution_count": 1,
   "metadata": {
    "id": "R1domTvnONqD"
   },
   "outputs": [
    {
     "data": {
      "text/plain": [
       "Sequential(\n",
       "  (0): Normalize()\n",
       "  (1): Net(\n",
       "    (linear_relu_stack): Sequential(\n",
       "      (0): Linear(in_features=784, out_features=128, bias=True)\n",
       "      (1): ReLU()\n",
       "      (2): Linear(in_features=128, out_features=64, bias=True)\n",
       "      (3): ReLU()\n",
       "      (4): Linear(in_features=64, out_features=10, bias=True)\n",
       "    )\n",
       "  )\n",
       ")"
      ]
     },
     "execution_count": 1,
     "metadata": {},
     "output_type": "execute_result"
    }
   ],
   "source": [
    "# !pip install tensorboardX\n",
    "\n",
    "import torch\n",
    "import torch.nn as nn\n",
    "import torch.optim as optim\n",
    "import torch.nn.functional as F\n",
    "import numpy as np\n",
    "import time\n",
    "import matplotlib.pyplot as plt\n",
    "\n",
    "from torchvision import datasets, transforms\n",
    "# from tensorboardX import SummaryWriter\n",
    "\n",
    "use_cuda = False\n",
    "device = torch.device(\"cuda\" if use_cuda else \"cpu\")\n",
    "batch_size = 64\n",
    "\n",
    "np.random.seed(42)\n",
    "torch.manual_seed(42)\n",
    "\n",
    "\n",
    "## Dataloaders\n",
    "train_dataset = datasets.MNIST('mnist_data/', train=True, download=True, transform=transforms.Compose(\n",
    "    [transforms.ToTensor()]\n",
    "))\n",
    "test_dataset = datasets.MNIST('mnist_data/', train=False, download=True, transform=transforms.Compose(\n",
    "    [transforms.ToTensor()]\n",
    "))\n",
    "\n",
    "train_loader = torch.utils.data.DataLoader(train_dataset, batch_size=batch_size, shuffle=True)\n",
    "test_loader = torch.utils.data.DataLoader(test_dataset, batch_size=batch_size, shuffle=False)\n",
    "\n",
    "## Simple NN. You can change this if you want. If you change it, mention the architectural details in your report.\n",
    "class Net(nn.Module):\n",
    "    def __init__(self):\n",
    "        super(Net, self).__init__()\n",
    "        self.linear_relu_stack = nn.Sequential(\n",
    "            nn.Linear(784, 128),\n",
    "            nn.ReLU(),\n",
    "            nn.Linear(128, 64),\n",
    "            nn.ReLU(),\n",
    "            nn.Linear(64, 10))\n",
    "\n",
    "    def forward(self, x):\n",
    "        x = nn.Flatten()(x)\n",
    "        x = self.linear_relu_stack(x)\n",
    "        return x\n",
    "\n",
    "class Normalize(nn.Module):\n",
    "    def forward(self, x): \n",
    "        return (x - 0.1307)/0.3081\n",
    "\n",
    "# Add the data normalization as a first \"layer\" to the network\n",
    "# this allows us to search for adverserial examples to the real image, rather than\n",
    "# to the normalized image\n",
    "model = nn.Sequential(Normalize(), Net())\n",
    "\n",
    "model = model.to(device)\n",
    "model.train()"
   ]
  },
  {
   "cell_type": "markdown",
   "metadata": {
    "id": "NCmWfZHTO8Oo"
   },
   "source": [
    "# Implement the Attacks\n",
    "\n",
    "Functions are given a simple useful signature that you can start with. Feel free to extend the signature as you see fit.\n",
    "\n",
    "You may find it useful to create a 'batched' version of PGD that you can use to create the adversarial attack."
   ]
  },
  {
   "cell_type": "code",
   "execution_count": 2,
   "metadata": {
    "id": "EZjvA49yONqP"
   },
   "outputs": [],
   "source": [
    "# The last argument 'targeted' can be used to toggle between a targeted and untargeted attack.\n",
    "def fgsm(model, x, label, eps):\n",
    "    #TODO: implement this as an intermediate step of PGD\n",
    "    # Notes: put the model in eval() mode for this function\n",
    "    model.eval()\n",
    "    # x.requires_grad_()\n",
    "    output = model(x)\n",
    "    loss = F.cross_entropy(output, label)\n",
    "\n",
    "    grad = torch.autograd.grad(\n",
    "                loss, x, retain_graph=False, create_graph=False\n",
    "            )[0]\n",
    "\n",
    "    x_adv = x.detach() + eps * torch.sign(grad)\n",
    "    return x_adv\n",
    "\n",
    "\n",
    "\n",
    "def pgd_untargeted(model, x, y, k, eps, eps_step):\n",
    "    #TODO: implement this \n",
    "    # Notes: put the model in eval() mode for this function\n",
    "    \n",
    "    model.eval()\n",
    "    adv_images = x.clone().detach()\n",
    "    for _ in range(k):\n",
    "        adv_images.requires_grad = True\n",
    "        x_adv = fgsm(model, adv_images, y, eps_step)\n",
    "        delta = torch.clamp(x_adv - x, min=-eps, max=eps)\n",
    "        adv_images = torch.clamp(x + delta, min = 0, max = 1)\n",
    "    \n",
    "    return adv_images\n"
   ]
  },
  {
   "cell_type": "markdown",
   "metadata": {
    "id": "0Mja_AB4RykO"
   },
   "source": [
    "# Implement Adversarial Training"
   ]
  },
  {
   "cell_type": "code",
   "execution_count": 3,
   "metadata": {
    "id": "V-sw8yKYONqQ"
   },
   "outputs": [],
   "source": [
    "def train_model(model, train_loader, num_epochs, enable_defense=True, attack='pgd', eps=0.1):\n",
    "    # TODO: implement this function that trains a given model on the MNIST dataset.\n",
    "    # this is a general-purpose function for both standard training and adversarial training.\n",
    "    # (toggle enable_defense parameter to switch between training schemes)\n",
    "    model.train()\n",
    "\n",
    "    lr = 1e-2\n",
    "    optimizer = torch.optim.SGD(model.parameters(), lr=lr, momentum=0.9)\n",
    "    for epoch in range(num_epochs):\n",
    "        for index, (images, labels) in enumerate(train_loader):\n",
    "            logits = model(images)\n",
    "            optimizer.zero_grad()\n",
    "\n",
    "            loss = F.cross_entropy(logits, labels)\n",
    "            loss.backward()\n",
    "            optimizer.step()\n",
    "\n",
    "        print(f'Epoch [{epoch}/{num_epochs}] Loss = {loss.item():.3f}')\n",
    "\n",
    "    if enable_defense:\n",
    "            for epoch in range(num_epochs):\n",
    "                for index, (images, labels) in enumerate(train_loader):\n",
    "                    adversary_images = pgd_untargeted(model, images, labels, 10,  eps, 0.01)\n",
    "                    model.train()\n",
    "                    optimizer.zero_grad()\n",
    "                    logits = model(adversary_images)\n",
    "                    loss = F.cross_entropy(logits, labels)\n",
    "                    loss.backward()\n",
    "                    optimizer.step()\n",
    "                    \n",
    "                print(f'Epoch [{epoch}/{num_epochs}] Loss = {loss.item():.3f}')"
   ]
  },
  {
   "cell_type": "code",
   "execution_count": 4,
   "metadata": {},
   "outputs": [],
   "source": [
    "\n",
    "def test_model_on_attacks(model, attack='pgd', eps=0.1):\n",
    "    # TODO: implement this function to test the robust accuracy of the given model\n",
    "    # use pgd_untargeted() within this function\n",
    "    correct = 0\n",
    "    model.eval()\n",
    "    for j, (images, labels) in enumerate(test_loader):\n",
    "        images, labels = images, labels\n",
    "        adversarial_images = pgd_untargeted(model, images, labels, 20, eps, 0.01)        \n",
    "        logits = model(adversarial_images)\n",
    "        _, preds = torch.max(logits, 1)\n",
    "        correct += (preds == labels).sum().item()\n",
    "        # print('Batch [{}/{}]'.format(j+1, len(test_loader)))\n",
    "    model.train()\n",
    "    print('Accuracy = {}%'.format(float(correct) * 100 / 10000))\n",
    "    "
   ]
  },
  {
   "cell_type": "markdown",
   "metadata": {
    "id": "ZPMdfEhtR3zm"
   },
   "source": [
    "# Study Accuracy, Quality, etc.\n",
    "\n",
    "Compare the various results and report your observations on the submission."
   ]
  },
  {
   "cell_type": "markdown",
   "metadata": {},
   "source": [
    "## Standard Training"
   ]
  },
  {
   "cell_type": "code",
   "execution_count": null,
   "metadata": {
    "scrolled": true
   },
   "outputs": [],
   "source": [
    "## train the original model\n",
    "model = nn.Sequential(Normalize(), Net())\n",
    "model = model.to(device)\n",
    "model.train()\n",
    "\n",
    "train_model(model, train_loader, 30, False)\n",
    "torch.save(model.state_dict(), 'standard-weights.pt')"
   ]
  },
  {
   "cell_type": "code",
   "execution_count": 145,
   "metadata": {},
   "outputs": [
    {
     "name": "stdout",
     "output_type": "stream",
     "text": [
      "4\n"
     ]
    },
    {
     "data": {
      "image/png": "[encoded data removed]",
      "text/plain": [
       "<Figure size 640x480 with 5 Axes>"
      ]
     },
     "metadata": {},
     "output_type": "display_data"
    }
   ],
   "source": [
    "adv_images = []\n",
    "epss= [0.05, 0.1, 0.15, 0.2]\n",
    "for eps in epss:\n",
    "    for j, (images, labels) in enumerate(test_loader):\n",
    "        images, labels = images, labels\n",
    "        adv_image = pgd_untargeted(model, images, labels, 20, eps, 0.01)  \n",
    "        break\n",
    "    adv_images.append(adv_image[0])\n",
    "print(len(adv_images))\n",
    "# sample_img , sample_lbl = temp_train_dataset[3]\n",
    "figure = plt.figure()\n",
    "cols, rows = 4, 1\n",
    "figure.add_subplot(rows, cols, 1)\n",
    "for i in range(1, cols * rows + 1):\n",
    "    plt.axis('off')\n",
    "    figure.add_subplot(rows, cols, i)\n",
    "\n",
    "    plt.title(f'eps = {epss[i - 1]}')\n",
    "    plt.imshow(adv_images[i - 1].squeeze(), cmap=\"gray\")\n",
    "plt.axis('off')\n",
    "plt.show()\n"
   ]
  },
  {
   "cell_type": "markdown",
   "metadata": {},
   "source": [
    "### Standard Accuracy"
   ]
  },
  {
   "cell_type": "code",
   "execution_count": 95,
   "metadata": {},
   "outputs": [
    {
     "name": "stdout",
     "output_type": "stream",
     "text": [
      "Accuracy = 98.18%\n"
     ]
    }
   ],
   "source": [
    "correct = 0\n",
    "model.eval()\n",
    "for j, (images, labels) in enumerate(test_loader):\n",
    "  images, labels = images, labels\n",
    "  logits = model(images)\n",
    "  _, preds = torch.max(logits, 1)\n",
    "  correct += (preds == labels).sum().item()\n",
    "  # print('Batch [{}/{}]'.format(j+1, len(test_loader)))\n",
    "model.train()\n",
    "print('Accuracy = {}%'.format(float(correct) * 100 / 10000))"
   ]
  },
  {
   "cell_type": "markdown",
   "metadata": {},
   "source": [
    "### Accuracy on Adversarial Set"
   ]
  },
  {
   "cell_type": "code",
   "execution_count": 21,
   "metadata": {},
   "outputs": [
    {
     "name": "stdout",
     "output_type": "stream",
     "text": [
      "Accuracy = 72.81%\n",
      "Accuracy = 14.52%\n",
      "Accuracy = 2.86%\n",
      "Accuracy = 1.11%\n"
     ]
    }
   ],
   "source": [
    "## PGD attack\n",
    "model = nn.Sequential(Normalize(), Net())\n",
    "model.load_state_dict(torch.load('standard-weights.pt', weights_only=True))\n",
    "\n",
    "for eps in [0.05, 0.1, 0.15, 0.2]:\n",
    "    test_model_on_attacks(model, attack='pgd', eps=eps)"
   ]
  },
  {
   "cell_type": "markdown",
   "metadata": {},
   "source": [
    "### Robust Accuracy"
   ]
  },
  {
   "cell_type": "code",
   "execution_count": 113,
   "metadata": {},
   "outputs": [
    {
     "name": "stdout",
     "output_type": "stream",
     "text": [
      "Accuracy = 55.875%\n"
     ]
    }
   ],
   "source": [
    "correct = 0\n",
    "eps = 0.1\n",
    "model.eval()\n",
    "for j, (images, labels) in enumerate(test_loader):\n",
    "  images, labels = images, labels\n",
    "  adv_images = pgd_untargeted(model, images, labels, 20, eps, 0.01)  \n",
    "  logits = model(images)\n",
    "  adv_logits = model(adv_images)\n",
    "  _, preds = torch.max(logits, 1)\n",
    "  _, adv_preds = torch.max(adv_logits, 1)\n",
    "  correct += (preds == labels).sum().item()\n",
    "  correct += (adv_preds == labels).sum().item()\n",
    "  # print('Batch [{}/{}]'.format(j+1, len(test_loader)))\n",
    "model.train()\n",
    "print('Accuracy = {}%'.format(float(correct) * 100 / 20000))"
   ]
  },
  {
   "cell_type": "markdown",
   "metadata": {},
   "source": [
    "## Adversarial Training"
   ]
  },
  {
   "cell_type": "code",
   "execution_count": null,
   "metadata": {
    "id": "ufD-ccTFR8R2"
   },
   "outputs": [],
   "source": [
    "## PGD based adversarial training\n",
    "adv_train_model = nn.Sequential(Normalize(), Net())\n",
    "eps = 0.1\n",
    "train_model(adv_train_model, train_loader, 20, True, 'pgd', eps)\n",
    "torch.save(adv_train_model.state_dict(), f'weights_AT_{eps}.pt')"
   ]
  },
  {
   "cell_type": "code",
   "execution_count": 22,
   "metadata": {},
   "outputs": [
    {
     "data": {
      "text/plain": [
       "<All keys matched successfully>"
      ]
     },
     "execution_count": 22,
     "metadata": {},
     "output_type": "execute_result"
    }
   ],
   "source": [
    "model = nn.Sequential(Normalize(), Net())\n",
    "model.load_state_dict(torch.load('weights_AT_0.1.pt', weights_only=True))"
   ]
  },
  {
   "cell_type": "markdown",
   "metadata": {},
   "source": [
    "### Standard Accuracy"
   ]
  },
  {
   "cell_type": "code",
   "execution_count": 23,
   "metadata": {},
   "outputs": [
    {
     "name": "stdout",
     "output_type": "stream",
     "text": [
      "Accuracy = 98.05%\n"
     ]
    }
   ],
   "source": [
    "correct = 0\n",
    "model.eval()\n",
    "for j, (images, labels) in enumerate(test_loader):\n",
    "  images, labels = images, labels\n",
    "  logits = model(images)\n",
    "  _, preds = torch.max(logits, 1)\n",
    "  correct += (preds == labels).sum().item()\n",
    "  # print('Batch [{}/{}]'.format(j+1, len(test_loader)))\n",
    "model.train()\n",
    "print('Accuracy = {}%'.format(float(correct) * 100 / 10000))"
   ]
  },
  {
   "cell_type": "markdown",
   "metadata": {},
   "source": [
    "### Accuracy on Adversarial Set"
   ]
  },
  {
   "cell_type": "code",
   "execution_count": 25,
   "metadata": {},
   "outputs": [
    {
     "name": "stdout",
     "output_type": "stream",
     "text": [
      "Accuracy = 95.6%\n",
      "Accuracy = 89.46%\n",
      "Accuracy = 75.76%\n",
      "Accuracy = 52.83%\n"
     ]
    }
   ],
   "source": [
    "## PGD attack\n",
    "for eps in [0.05, 0.1, 0.15, 0.2]:\n",
    "    test_model_on_attacks(model, attack='pgd', eps=eps)"
   ]
  },
  {
   "cell_type": "markdown",
   "metadata": {},
   "source": [
    "### Robust Accuracy"
   ]
  },
  {
   "cell_type": "code",
   "execution_count": 124,
   "metadata": {},
   "outputs": [
    {
     "name": "stdout",
     "output_type": "stream",
     "text": [
      "Accuracy = 93.755%\n"
     ]
    }
   ],
   "source": [
    "correct = 0\n",
    "eps = 0.1\n",
    "model.eval()\n",
    "for j, (images, labels) in enumerate(test_loader):\n",
    "  images, labels = images, labels\n",
    "  adv_images = pgd_untargeted(model, images, labels, 20, eps, 0.01)  \n",
    "  logits = model(images)\n",
    "  adv_logits = model(adv_images)\n",
    "  _, preds = torch.max(logits, 1)\n",
    "  _, adv_preds = torch.max(adv_logits, 1)\n",
    "  correct += (preds == labels).sum().item()\n",
    "  correct += (adv_preds == labels).sum().item()\n",
    "  # print('Batch [{}/{}]'.format(j+1, len(test_loader)))\n",
    "model.train()\n",
    "print('Accuracy = {}%'.format(float(correct) * 100 / 20000))"
   ]
  },
  {
   "cell_type": "code",
   "execution_count": 5,
   "metadata": {},
   "outputs": [
    {
     "data": {
      "text/plain": [
       "<All keys matched successfully>"
      ]
     },
     "execution_count": 5,
     "metadata": {},
     "output_type": "execute_result"
    }
   ],
   "source": [
    "adv_model = nn.Sequential(Normalize(), Net())\n",
    "adv_model.load_state_dict(torch.load('weights_AT_0.1.pt', weights_only=True))"
   ]
  },
  {
   "cell_type": "code",
   "execution_count": 28,
   "metadata": {},
   "outputs": [
    {
     "name": "stdout",
     "output_type": "stream",
     "text": [
      "Accuracy = 92.15%\n"
     ]
    }
   ],
   "source": [
    "correct = 0\n",
    "eps = 0.1\n",
    "model.eval()\n",
    "for j, (images, labels) in enumerate(test_loader):\n",
    "  images, labels = images, labels\n",
    "  images.requires_grad = True\n",
    "  adv_images = fgsm(model, images, labels, 0.1) \n",
    "  logits = model(images)\n",
    "  adv_logits = model(adv_images)\n",
    "  _, preds = torch.max(logits, 1)\n",
    "  _, adv_preds = torch.max(adv_logits, 1)\n",
    "  correct += (preds == labels).sum().item()\n",
    "  correct += (adv_preds == labels).sum().item()\n",
    "  # print('Batch [{}/{}]'.format(j+1, len(test_loader)))\n",
    "model.train()\n",
    "print('Accuracy = {}%'.format(float(correct) * 100 / 20000))"
   ]
  },
  {
   "cell_type": "code",
   "execution_count": 65,
   "metadata": {},
   "outputs": [],
   "source": [
    "from torchattacks.attacks.tpgd import TPGD\n",
    "from torchattacks.attacks.gn import GN\n"
   ]
  },
  {
   "cell_type": "code",
   "execution_count": 59,
   "metadata": {},
   "outputs": [
    {
     "name": "stdout",
     "output_type": "stream",
     "text": [
      "Accuracy = 97.93%\n"
     ]
    }
   ],
   "source": [
    "correct = 0\n",
    "eps = 0.1\n",
    "model.eval()\n",
    "for j, (images, labels) in enumerate(test_loader):\n",
    "  attack = TPGD(adv_model,eps=8/255, alpha=2/255, steps=10)\n",
    "  adv_images = attack(images)\n",
    "  logits = adv_model(images)\n",
    "  adv_logits = adv_model(adv_images)\n",
    "  _, preds = torch.max(logits, 1)\n",
    "  _, adv_preds = torch.max(adv_logits, 1)\n",
    "  correct += (preds == labels).sum().item()\n",
    "  correct += (adv_preds == labels).sum().item()\n",
    "  # print('Batch [{}/{}]'.format(j+1, len(test_loader)))\n",
    "model.train()\n",
    "print('Accuracy = {}%'.format(float(correct) * 100 / 20000))"
   ]
  },
  {
   "cell_type": "code",
   "execution_count": 67,
   "metadata": {},
   "outputs": [
    {
     "name": "stdout",
     "output_type": "stream",
     "text": [
      "Accuracy = 98.105%\n"
     ]
    }
   ],
   "source": [
    "correct = 0\n",
    "eps = 0.1\n",
    "adv_model.eval()\n",
    "for j, (images, labels) in enumerate(test_loader):\n",
    "  attack = GN(adv_model)\n",
    "  adv_images = attack(images)\n",
    "  logits = adv_model(images)\n",
    "  adv_logits = adv_model(adv_images)\n",
    "  _, preds = torch.max(logits, 1)\n",
    "  _, adv_preds = torch.max(adv_logits, 1)\n",
    "  correct += (preds == labels).sum().item()\n",
    "  correct += (adv_preds == labels).sum().item()\n",
    "  # print('Batch [{}/{}]'.format(j+1, len(test_loader)))\n",
    "model.train()\n",
    "print('Accuracy = {}%'.format(float(correct) * 100 / 20000))"
   ]
  },
  {
   "cell_type": "code",
   "execution_count": null,
   "metadata": {},
   "outputs": [],
   "source": []
  }
 ],
 "metadata": {
  "colab": {
   "provenance": []
  },
  "kernelspec": {
   "display_name": "env",
   "language": "python",
   "name": "env"
  },
  "language_info": {
   "codemirror_mode": {
    "name": "ipython",
    "version": 3
   },
   "file_extension": ".py",
   "mimetype": "text/x-python",
   "name": "python",
   "nbconvert_exporter": "python",
   "pygments_lexer": "ipython3",
   "version": "3.12.2"
  }
 },
 "nbformat": 4,
 "nbformat_minor": 1
}

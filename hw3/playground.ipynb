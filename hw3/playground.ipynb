{
 "cells": [
  {
   "cell_type": "markdown",
   "metadata": {
    "id": "Whsg1XX_OZs6"
   },
   "source": [
    "# Boilerplate\n",
    "\n",
    "Package installation, loading, and dataloaders. There's also a simple model defined. You can change it your favourite architecture if you want."
   ]
  },
  {
   "cell_type": "code",
   "execution_count": 108,
   "metadata": {
    "id": "R1domTvnONqD"
   },
   "outputs": [
    {
     "data": {
      "text/plain": [
       "Net(\n",
       "  (linear_relu_stack): Sequential(\n",
       "    (0): Linear(in_features=784, out_features=50, bias=True)\n",
       "    (1): ReLU()\n",
       "    (2): Linear(in_features=50, out_features=50, bias=True)\n",
       "    (3): ReLU()\n",
       "    (4): Linear(in_features=50, out_features=50, bias=True)\n",
       "    (5): ReLU()\n",
       "    (6): Linear(in_features=50, out_features=10, bias=True)\n",
       "  )\n",
       ")"
      ]
     },
     "execution_count": 108,
     "metadata": {},
     "output_type": "execute_result"
    }
   ],
   "source": [
    "# !pip install tensorboardX\n",
    "\n",
    "import torch\n",
    "import torch.nn as nn\n",
    "import torch.optim as optim\n",
    "import torch.nn.functional as F\n",
    "import numpy as np\n",
    "import time\n",
    "import matplotlib.pyplot as plt\n",
    "\n",
    "from torchvision import datasets, transforms\n",
    "# from tensorboardX import SummaryWriter\n",
    "\n",
    "use_cuda = False\n",
    "device = torch.device(\"cuda\" if use_cuda else \"cpu\")\n",
    "batch_size = 100\n",
    "\n",
    "np.random.seed(42)\n",
    "torch.manual_seed(42)\n",
    "\n",
    "\n",
    "## Dataloaders\n",
    "train_dataset = datasets.MNIST('mnist_data/', train=True, download=True, transform=transforms.Compose(\n",
    "    [transforms.ToTensor()]\n",
    "))\n",
    "test_dataset = datasets.MNIST('mnist_data/', train=False, download=True, transform=transforms.Compose(\n",
    "    [transforms.ToTensor()]\n",
    "))\n",
    "\n",
    "train_loader = torch.utils.data.DataLoader(train_dataset, batch_size=batch_size, shuffle=True)\n",
    "test_loader = torch.utils.data.DataLoader(test_dataset, batch_size=batch_size, shuffle=False)\n",
    "\n",
    "## Simple NN. You can change this if you want. If you change it, mention the architectural details in your report.\n",
    "class Net(nn.Module):\n",
    "    def __init__(self):\n",
    "        super(Net, self).__init__()\n",
    "        self.linear_relu_stack = nn.Sequential(\n",
    "            nn.Linear(784, 50),\n",
    "            nn.ReLU(),\n",
    "            nn.Linear(50, 50),\n",
    "            nn.ReLU(),\n",
    "            nn.Linear(50, 50),\n",
    "            nn.ReLU(),\n",
    "            nn.Linear(50, 10))\n",
    "\n",
    "    def forward(self, x):\n",
    "        x = nn.Flatten()(x)\n",
    "        x = self.linear_relu_stack(x)\n",
    "        return x\n",
    "\n",
    "# Add the data normalization as a first \"layer\" to the network\n",
    "# this allows us to search for adverserial examples to the real image, rather than\n",
    "# to the normalized image\n",
    "model = Net()\n",
    "\n",
    "model = model.to(device)\n",
    "model.train()"
   ]
  },
  {
   "cell_type": "code",
   "execution_count": null,
   "metadata": {},
   "outputs": [],
   "source": [
    "# The last argument 'targeted' can be used to toggle between a targeted and untargeted attack.\n",
    "def fgsm(model, x, label, eps):\n",
    "    #TODO: implement this as an intermediate step of PGD\n",
    "    # Notes: put the model in eval() mode for this function\n",
    "    model.eval()\n",
    "    # x.requires_grad_()\n",
    "    output = model(x)\n",
    "    loss = F.cross_entropy(output, label)\n",
    "\n",
    "    grad = torch.autograd.grad(\n",
    "                loss, x, retain_graph=False, create_graph=False\n",
    "            )[0]\n",
    "\n",
    "    x_adv = x.detach() + eps * torch.sign(grad)\n",
    "    return x_adv\n",
    "\n",
    "\n",
    "\n",
    "def pgd_untargeted(model, x, y, k, eps, eps_step):\n",
    "    #TODO: implement this \n",
    "    # Notes: put the model in eval() mode for this function\n",
    "    \n",
    "    model.eval()\n",
    "    adv_images = x.clone().detach()\n",
    "    for _ in range(k):\n",
    "        adv_images.requires_grad = True\n",
    "        x_adv = fgsm(model, adv_images, y, eps_step)\n",
    "        delta = torch.clamp(x_adv - x, min=-eps, max=eps)\n",
    "        adv_images = torch.clamp(x + delta, min = 0, max = 1)\n",
    "    \n",
    "    return adv_images\n"
   ]
  },
  {
   "cell_type": "code",
   "execution_count": 12,
   "metadata": {
    "id": "V-sw8yKYONqQ"
   },
   "outputs": [],
   "source": [
    "def train_model(model, train_loader, num_epochs, enable_defense=True, attack='pgd', eps=0.1):\n",
    "    # TODO: implement this function that trains a given model on the MNIST dataset.\n",
    "    # this is a general-purpose function for both standard training and adversarial training.\n",
    "    # (toggle enable_defense parameter to switch between training schemes)\n",
    "    model.train()\n",
    "\n",
    "    lr = 1e-2\n",
    "    optimizer = torch.optim.SGD(model.parameters(), lr=lr, momentum=0.9)\n",
    "    for epoch in range(num_epochs):\n",
    "        for index, (images, labels) in enumerate(train_loader):\n",
    "            logits = model(images)\n",
    "            optimizer.zero_grad()\n",
    "\n",
    "            loss = F.cross_entropy(logits, labels)\n",
    "            loss.backward()\n",
    "            optimizer.step()\n",
    "\n",
    "        print(f'Epoch [{epoch}/{num_epochs}] Loss = {loss.item():.3f}')\n",
    "\n",
    "    # if enable_defense:\n",
    "    #         for epoch in range(num_epochs):\n",
    "    #             for index, (images, labels) in enumerate(train_loader):\n",
    "    #                 adversary_images = pgd_untargeted(model, images, labels, 10,  eps, 0.01)\n",
    "    #                 model.train()\n",
    "    #                 optimizer.zero_grad()\n",
    "    #                 logits = model(adversary_images)\n",
    "    #                 loss = F.cross_entropy(logits, labels)\n",
    "    #                 loss.backward()\n",
    "    #                 optimizer.step()\n",
    "                    \n",
    "    #             print(f'Epoch [{epoch}/{num_epochs}] Loss = {loss.item():.3f}')"
   ]
  },
  {
   "cell_type": "markdown",
   "metadata": {},
   "source": [
    "## Standard Training"
   ]
  },
  {
   "cell_type": "code",
   "execution_count": 13,
   "metadata": {
    "scrolled": true
   },
   "outputs": [
    {
     "name": "stdout",
     "output_type": "stream",
     "text": [
      "Epoch [0/30] Loss = 0.136\n",
      "Epoch [1/30] Loss = 0.074\n",
      "Epoch [2/30] Loss = 0.026\n",
      "Epoch [3/30] Loss = 0.106\n",
      "Epoch [4/30] Loss = 0.047\n",
      "Epoch [5/30] Loss = 0.035\n",
      "Epoch [6/30] Loss = 0.060\n",
      "Epoch [7/30] Loss = 0.212\n",
      "Epoch [8/30] Loss = 0.122\n",
      "Epoch [9/30] Loss = 0.128\n",
      "Epoch [10/30] Loss = 0.010\n",
      "Epoch [11/30] Loss = 0.002\n",
      "Epoch [12/30] Loss = 0.014\n",
      "Epoch [13/30] Loss = 0.008\n",
      "Epoch [14/30] Loss = 0.013\n",
      "Epoch [15/30] Loss = 0.001\n",
      "Epoch [16/30] Loss = 0.017\n",
      "Epoch [17/30] Loss = 0.004\n",
      "Epoch [18/30] Loss = 0.001\n",
      "Epoch [19/30] Loss = 0.001\n",
      "Epoch [20/30] Loss = 0.004\n",
      "Epoch [21/30] Loss = 0.056\n",
      "Epoch [22/30] Loss = 0.000\n",
      "Epoch [23/30] Loss = 0.007\n",
      "Epoch [24/30] Loss = 0.025\n",
      "Epoch [25/30] Loss = 0.001\n",
      "Epoch [26/30] Loss = 0.014\n",
      "Epoch [27/30] Loss = 0.000\n",
      "Epoch [28/30] Loss = 0.005\n",
      "Epoch [29/30] Loss = 0.000\n"
     ]
    }
   ],
   "source": [
    "## train the original model\n",
    "model = model.to(device)\n",
    "model.train()\n",
    "\n",
    "train_model(model, train_loader, 30, False)\n",
    "torch.save(model.state_dict(), 'standard-weights.pt')"
   ]
  },
  {
   "cell_type": "markdown",
   "metadata": {},
   "source": [
    "### Standard Accuracy"
   ]
  },
  {
   "cell_type": "code",
   "execution_count": 14,
   "metadata": {},
   "outputs": [
    {
     "name": "stdout",
     "output_type": "stream",
     "text": [
      "Accuracy = 97.37%\n"
     ]
    }
   ],
   "source": [
    "correct = 0\n",
    "model.eval()\n",
    "for j, (images, labels) in enumerate(test_loader):\n",
    "  images, labels = images, labels\n",
    "  logits = model(images)\n",
    "  _, preds = torch.max(logits, 1)\n",
    "  correct += (preds == labels).sum().item()\n",
    "  # print('Batch [{}/{}]'.format(j+1, len(test_loader)))\n",
    "model.train()\n",
    "print('Accuracy = {}%'.format(float(correct) * 100 / 10000))"
   ]
  },
  {
   "cell_type": "code",
   "execution_count": 44,
   "metadata": {},
   "outputs": [
    {
     "name": "stdout",
     "output_type": "stream",
     "text": [
      "Epsilon: 0.01, Accuracy: 0.0816\n",
      "Epsilon: 0.020000000000000004, Accuracy: 0.0794\n",
      "Epsilon: 0.030000000000000006, Accuracy: 0.0769\n",
      "Epsilon: 0.04000000000000001, Accuracy: 0.0752\n",
      "Epsilon: 0.05000000000000001, Accuracy: 0.0738\n",
      "Epsilon: 0.06000000000000001, Accuracy: 0.0720\n",
      "Epsilon: 0.07, Accuracy: 0.0708\n",
      "Epsilon: 0.08, Accuracy: 0.0686\n",
      "Epsilon: 0.09000000000000001, Accuracy: 0.0666\n",
      "Epsilon: 0.1, Accuracy: 0.0656\n"
     ]
    }
   ],
   "source": [
    "def interval_analysis(model: Net, inputs, epsilon):\n",
    "    inputs = inputs.view(inputs.size(0), -1)\n",
    "    lb = inputs - epsilon\n",
    "    ub = inputs + epsilon\n",
    "\n",
    "    layers = model.linear_relu_stack\n",
    "    for index in range(0,len(layers) - 1, 2):\n",
    "        layer = layers[index]\n",
    "        weight, bias = layer.weight, layer.bias\n",
    "\n",
    "        curr_lb = torch.matmul(lb, weight.t()) + bias\n",
    "        curr_ub = torch.matmul(ub, weight.t()) + bias\n",
    "        \n",
    "        curr_lb = torch.relu(curr_lb)\n",
    "        curr_ub = torch.relu(curr_ub)\n",
    "\n",
    "        lb = torch.minimum(curr_lb, curr_ub)\n",
    "        ub = torch.maximum(curr_lb, curr_ub)\n",
    "\n",
    "    layer = layers[-1]\n",
    "    weight, bias = layer.weight, layer.bias\n",
    "\n",
    "    curr_lb = torch.matmul(lb, weight.t()) + bias\n",
    "    curr_ub = torch.matmul(ub, weight.t()) + bias\n",
    "\n",
    "    lb = torch.minimum(curr_lb, curr_ub)\n",
    "    ub = torch.maximum(curr_lb, curr_ub)\n",
    "\n",
    "    return lb, ub\n",
    "\n",
    "def evaluate_robustness(model, test_loader, epsilons):\n",
    "    model.eval()\n",
    "    robust_accuracies  = []\n",
    "    with torch.no_grad():\n",
    "        for epsilon in epsilons:\n",
    "            correct = 0\n",
    "            total = 0\n",
    "            for j, (images, labels) in enumerate(test_loader):\n",
    "                lb, ub = interval_analysis(model, images, epsilon)\n",
    "                lb_values = lb[torch.arange(images.size(0)), labels]\n",
    "\n",
    "                mask = torch.full_like(ub, float('-inf'))\n",
    "                mask[torch.arange(images.size(0)), labels] = ub[torch.arange(images.size(0)), labels]\n",
    "                outputs_masked = torch.where(mask == ub, float('-inf'), ub)\n",
    "                max_values_excluding_class = outputs_masked.max(dim=1).values\n",
    "                \n",
    "                differences = lb_values > max_values_excluding_class\n",
    "                correct += differences.sum().item()\n",
    "                total += labels.size(0)\n",
    "            accuracy = correct / total\n",
    "            robust_accuracies.append(accuracy)\n",
    "            print(f\"Epsilon: {epsilon}, Accuracy: {accuracy:.4f}\")\n",
    "        return robust_accuracies\n",
    "            # _, preds = torch.max(logits, 1)\n",
    "            # correct += (preds == labels).sum().item()\n",
    "epsilons = np.linspace(0.01, 0.1, 10)\n",
    "robust_accuracies = evaluate_robustness(model, test_loader, epsilons)"
   ]
  },
  {
   "cell_type": "code",
   "execution_count": 50,
   "metadata": {},
   "outputs": [
    {
     "data": {
      "text/plain": [
       "Text(0.5, 1.0, 'Robust Accuracy vs Epsilon')"
      ]
     },
     "execution_count": 50,
     "metadata": {},
     "output_type": "execute_result"
    },
    {
     "data": {
      "image/png": "[encoded data removed]",
      "text/plain": [
       "<Figure size 640x480 with 1 Axes>"
      ]
     },
     "metadata": {},
     "output_type": "display_data"
    }
   ],
   "source": [
    "plt.plot(epsilons, robust_accuracies, '-o')\n",
    "plt.xlabel(\"Epsilon\")\n",
    "plt.ylabel('Robust Accuracy')\n",
    "plt.title(\"Robust Accuracy vs Epsilon\")"
   ]
  },
  {
   "cell_type": "markdown",
   "metadata": {},
   "source": [
    "## IBP implementation"
   ]
  },
  {
   "cell_type": "markdown",
   "metadata": {},
   "source": [
    "![image](./hyper_params.png)"
   ]
  },
  {
   "cell_type": "markdown",
   "metadata": {},
   "source": [
    "### Citation\n",
    "Parts of code is adapted from [Github](https://github.com/pawelmorawiecki/Interval_bound_propagation) however altered for different number of epochs, bounds and personal understanding"
   ]
  },
  {
   "cell_type": "code",
   "execution_count": 123,
   "metadata": {},
   "outputs": [],
   "source": [
    "#schedulers\n",
    "\n",
    "def epsilon_scheduler(epsilon):\n",
    "\n",
    "    epsilon_schedule = []\n",
    "    step = epsilon / 10000\n",
    "\n",
    "    for i in range(10000):\n",
    "        epsilon_schedule.append(i * step)\n",
    "    \n",
    "    for i in range(40001):\n",
    "        epsilon_schedule.append(epsilon)\n",
    "    \n",
    "    return epsilon_schedule\n",
    "\n",
    "def kappa_scheduler():\n",
    "\n",
    "    schedule = 2001 * [1]\n",
    "    kappa_value = 1.0\n",
    "    step = 0.5/48000\n",
    "\n",
    "    for i in range(48000):\n",
    "        kappa_value -= step\n",
    "        schedule.append(kappa_value)\n",
    "    return schedule"
   ]
  },
  {
   "cell_type": "code",
   "execution_count": 52,
   "metadata": {},
   "outputs": [],
   "source": [
    "def bound_propagation(model: Net, init_bounds):\n",
    "    l, u = init_bounds\n",
    "    bounds = [init_bounds]\n",
    "    for layer in model.linear_relu_stack:\n",
    "        if isinstance(layer, nn.Linear):\n",
    "            pos_weights = layer.weight.clamp(min = 0)\n",
    "            neg_weights = layer.weight.clamp(max = 0)\n",
    "            new_l = (pos_weights @ l.T + neg_weights @ u.T + layer.bias[:, None]).T # pos weights * l + neg_weights * u minimizes lower bound\n",
    "            new_u = (pos_weights @ u.T + neg_weights @ l.T + layer.bias[:, None]).T # opposite case\n",
    "\n",
    "        if isinstance(layer, nn.ReLU):\n",
    "            new_l = l.clamp(min = 0)\n",
    "            new_u = u.clamp(min = 0)\n",
    "\n",
    "            unstable = (l < 0) & (u > 0)\n",
    "            new_l[unstable] = 0\n",
    "\n",
    "        l = new_l\n",
    "        u = new_u\n",
    "        bounds.append([new_l, new_u])\n",
    "    return bounds\n"
   ]
  },
  {
   "cell_type": "code",
   "execution_count": 53,
   "metadata": {},
   "outputs": [],
   "source": [
    "def get_final_bound(model: Net, C, bounds, idx):\n",
    "    last_W = C.T @ model.linear_relu_stack[-1].weight\n",
    "    last_b = C.T @ model.linear_relu_stack[-1].bias\n",
    "\n",
    "    l, u = bounds[-2]\n",
    "    #just return lower bound since we care about worst case\n",
    "    return (last_W.clamp(min=0) @ l[idx].T + last_W.clamp(max=0) @ u[idx].T + last_b[:,None]).T"
   ]
  },
  {
   "cell_type": "code",
   "execution_count": 100,
   "metadata": {},
   "outputs": [],
   "source": [
    "def robust_train_loop(train_loader, model, epsilon_scheduler, kappa_scheduler, batch_counter, optimizer):\n",
    "    model.train()\n",
    "    robust_err = 0\n",
    "    # total_robust_loss = 0\n",
    "    total_combined_loss = 0\n",
    "\n",
    "    # Matrix that when multiplied logits by will give max/min o\n",
    "    C = [-torch.eye(10) for _ in range(10)]\n",
    "    for y0 in range(10):\n",
    "        C[y0][y0,:] += 1\n",
    "\n",
    "    for X, y in train_loader:\n",
    "        # Fit loss \n",
    "        y_prediction = model(X)\n",
    "        fit_loss = nn.CrossEntropyLoss()(y_prediction, y)\n",
    "\n",
    "        # Spec Loss\n",
    "        X = X.view(X.size(0), -1)\n",
    "        initial_bound = (X + epsilon_scheduler[batch_counter], X - epsilon_scheduler[batch_counter])\n",
    "        bounds = bound_propagation(model, initial_bound)\n",
    "        robust_loss = 0\n",
    "        for idx in range(10):\n",
    "            if sum(y==idx) > 0:\n",
    "                lower_bound = get_final_bound(model, C[idx], bounds, y==idx)\n",
    "                \"\"\"\n",
    "                Explanation of below lines:\n",
    "                For each index, we take only the samples from that batch that have a class == index\n",
    "                Then we compare the lower bounds to the expected class. realistically the lower bound list contains the distance from the class each logit is.\n",
    "                positive value means likelinesss of logit_i==y > logit_i!=y\n",
    "                Then when we take the crossentropy, we negate the lower bound since if the prediction is good, all the other values are negative indicating a small probabilty\n",
    "                \"\"\"\n",
    "                robust_loss += nn.CrossEntropyLoss(reduction='sum')(-lower_bound, y[y==idx]) / X.shape[0]\n",
    "\n",
    "                robust_err += (lower_bound.min(dim=1)[0] < 0).sum().item()\n",
    "        # total_robust_loss += robust_loss.item() * X.shape[0]\n",
    "\n",
    "        #combined loss\n",
    "        combined_loss = (kappa_scheduler[batch_counter])*(fit_loss) + (1-kappa_scheduler[batch_counter])*(robust_loss)\n",
    "        total_combined_loss += combined_loss.item()\n",
    "\n",
    "        batch_counter += 1\n",
    "    \n",
    "        if optimizer:\n",
    "            optimizer.zero_grad()\n",
    "            combined_loss.backward()\n",
    "            optimizer.step()\n",
    "\n",
    "    return robust_err / len(train_loader), total_combined_loss/len(train_loader)\n",
    "\n",
    "\n"
   ]
  },
  {
   "cell_type": "code",
   "execution_count": 115,
   "metadata": {},
   "outputs": [],
   "source": [
    "def test_model(model, test_loader):\n",
    "    correct = 0\n",
    "    model.eval()\n",
    "    for j, (images, labels) in enumerate(test_loader):\n",
    "        images, labels = images, labels\n",
    "        logits = model(images)\n",
    "        _, preds = torch.max(logits, 1)\n",
    "        correct += (preds == labels).sum().item()\n",
    "    return correct/len(test_loader.dataset)\n",
    "\n",
    "def test_robust_model(model, test_loader, epsilon):\n",
    "    C = [-torch.eye(10) for _ in range(10)]\n",
    "    for y0 in range(10):\n",
    "        C[y0][y0,:] += 1\n",
    "\n",
    "\n",
    "    robust_err = 0.0\n",
    "    model.eval()\n",
    "    for j, (images, labels) in enumerate(test_loader):\n",
    "        images = images.view(images.size(0), -1)\n",
    "        init_bounds = (images - epsilon, images + epsilon)\n",
    "        bounds = bound_propagation(model, init_bounds)\n",
    "        for idx in range(10):\n",
    "            if sum(labels==idx) > 0:\n",
    "                lower_bound = get_final_bound(model, C[idx], bounds, labels==idx)\n",
    "                robust_err += (lower_bound.min(dim=1)[0] < 0).sum().item()\n",
    "\n",
    "    return robust_err/len(test_loader.dataset)"
   ]
  },
  {
   "cell_type": "code",
   "execution_count": 122,
   "metadata": {},
   "outputs": [
    {
     "name": "stdout",
     "output_type": "stream",
     "text": [
      "Epoch   \tCombined Loss\tTest Err\tTest Robust Err\n",
      "0.000000\t0.498740\t0.925300\t1.000000\n",
      "10.000000\t0.046384\t0.971300\t1.000000\n",
      "20.000000\t0.014920\t0.973400\t1.000000\n"
     ]
    },
    {
     "ename": "KeyboardInterrupt",
     "evalue": "",
     "output_type": "error",
     "traceback": [
      "\u001b[0;31m---------------------------------------------------------------------------\u001b[0m",
      "\u001b[0;31mKeyboardInterrupt\u001b[0m                         Traceback (most recent call last)",
      "Cell \u001b[0;32mIn[122], line 19\u001b[0m\n\u001b[1;32m     17\u001b[0m training_robust_errs \u001b[38;5;241m=\u001b[39m []\n\u001b[1;32m     18\u001b[0m \u001b[38;5;28;01mfor\u001b[39;00m t \u001b[38;5;129;01min\u001b[39;00m \u001b[38;5;28mrange\u001b[39m(\u001b[38;5;241m49\u001b[39m):\n\u001b[0;32m---> 19\u001b[0m     training_robust_err, combined_loss \u001b[38;5;241m=\u001b[39m \u001b[43mrobust_train_loop\u001b[49m\u001b[43m(\u001b[49m\u001b[43mtrain_loader\u001b[49m\u001b[43m,\u001b[49m\u001b[43m \u001b[49m\u001b[43mmodel\u001b[49m\u001b[43m,\u001b[49m\u001b[43m \u001b[49m\u001b[43mepsilon_schedule\u001b[49m\u001b[43m,\u001b[49m\u001b[43m \u001b[49m\u001b[43mkappa_schedule\u001b[49m\u001b[43m,\u001b[49m\u001b[43m \u001b[49m\u001b[43mbatch_counter\u001b[49m\u001b[43m,\u001b[49m\u001b[43m \u001b[49m\u001b[43mopt\u001b[49m\u001b[43m)\u001b[49m\n\u001b[1;32m     20\u001b[0m     batch_counter \u001b[38;5;241m+\u001b[39m\u001b[38;5;241m=\u001b[39m \u001b[38;5;241m500\u001b[39m\n\u001b[1;32m     22\u001b[0m     \u001b[38;5;28;01mif\u001b[39;00m t \u001b[38;5;241m==\u001b[39m \u001b[38;5;241m24\u001b[39m:  \u001b[38;5;66;03m#decrease learning rate after 25 epochs\u001b[39;00m\n",
      "Cell \u001b[0;32mIn[100], line 45\u001b[0m, in \u001b[0;36mrobust_train_loop\u001b[0;34m(train_loader, model, epsilon_scheduler, kappa_scheduler, batch_counter, optimizer)\u001b[0m\n\u001b[1;32m     43\u001b[0m     \u001b[38;5;28;01mif\u001b[39;00m optimizer:\n\u001b[1;32m     44\u001b[0m         optimizer\u001b[38;5;241m.\u001b[39mzero_grad()\n\u001b[0;32m---> 45\u001b[0m         \u001b[43mcombined_loss\u001b[49m\u001b[38;5;241;43m.\u001b[39;49m\u001b[43mbackward\u001b[49m\u001b[43m(\u001b[49m\u001b[43m)\u001b[49m\n\u001b[1;32m     46\u001b[0m         optimizer\u001b[38;5;241m.\u001b[39mstep()\n\u001b[1;32m     48\u001b[0m \u001b[38;5;28;01mreturn\u001b[39;00m robust_err \u001b[38;5;241m/\u001b[39m \u001b[38;5;28mlen\u001b[39m(train_loader), total_combined_loss\u001b[38;5;241m/\u001b[39m\u001b[38;5;28mlen\u001b[39m(train_loader)\n",
      "File \u001b[0;32m~/fall2024/521/hw1/env/lib/python3.12/site-packages/torch/_tensor.py:521\u001b[0m, in \u001b[0;36mTensor.backward\u001b[0;34m(self, gradient, retain_graph, create_graph, inputs)\u001b[0m\n\u001b[1;32m    511\u001b[0m \u001b[38;5;28;01mif\u001b[39;00m has_torch_function_unary(\u001b[38;5;28mself\u001b[39m):\n\u001b[1;32m    512\u001b[0m     \u001b[38;5;28;01mreturn\u001b[39;00m handle_torch_function(\n\u001b[1;32m    513\u001b[0m         Tensor\u001b[38;5;241m.\u001b[39mbackward,\n\u001b[1;32m    514\u001b[0m         (\u001b[38;5;28mself\u001b[39m,),\n\u001b[0;32m   (...)\u001b[0m\n\u001b[1;32m    519\u001b[0m         inputs\u001b[38;5;241m=\u001b[39minputs,\n\u001b[1;32m    520\u001b[0m     )\n\u001b[0;32m--> 521\u001b[0m \u001b[43mtorch\u001b[49m\u001b[38;5;241;43m.\u001b[39;49m\u001b[43mautograd\u001b[49m\u001b[38;5;241;43m.\u001b[39;49m\u001b[43mbackward\u001b[49m\u001b[43m(\u001b[49m\n\u001b[1;32m    522\u001b[0m \u001b[43m    \u001b[49m\u001b[38;5;28;43mself\u001b[39;49m\u001b[43m,\u001b[49m\u001b[43m \u001b[49m\u001b[43mgradient\u001b[49m\u001b[43m,\u001b[49m\u001b[43m \u001b[49m\u001b[43mretain_graph\u001b[49m\u001b[43m,\u001b[49m\u001b[43m \u001b[49m\u001b[43mcreate_graph\u001b[49m\u001b[43m,\u001b[49m\u001b[43m \u001b[49m\u001b[43minputs\u001b[49m\u001b[38;5;241;43m=\u001b[39;49m\u001b[43minputs\u001b[49m\n\u001b[1;32m    523\u001b[0m \u001b[43m\u001b[49m\u001b[43m)\u001b[49m\n",
      "File \u001b[0;32m~/fall2024/521/hw1/env/lib/python3.12/site-packages/torch/autograd/__init__.py:289\u001b[0m, in \u001b[0;36mbackward\u001b[0;34m(tensors, grad_tensors, retain_graph, create_graph, grad_variables, inputs)\u001b[0m\n\u001b[1;32m    284\u001b[0m     retain_graph \u001b[38;5;241m=\u001b[39m create_graph\n\u001b[1;32m    286\u001b[0m \u001b[38;5;66;03m# The reason we repeat the same comment below is that\u001b[39;00m\n\u001b[1;32m    287\u001b[0m \u001b[38;5;66;03m# some Python versions print out the first line of a multi-line function\u001b[39;00m\n\u001b[1;32m    288\u001b[0m \u001b[38;5;66;03m# calls in the traceback and some print out the last line\u001b[39;00m\n\u001b[0;32m--> 289\u001b[0m \u001b[43m_engine_run_backward\u001b[49m\u001b[43m(\u001b[49m\n\u001b[1;32m    290\u001b[0m \u001b[43m    \u001b[49m\u001b[43mtensors\u001b[49m\u001b[43m,\u001b[49m\n\u001b[1;32m    291\u001b[0m \u001b[43m    \u001b[49m\u001b[43mgrad_tensors_\u001b[49m\u001b[43m,\u001b[49m\n\u001b[1;32m    292\u001b[0m \u001b[43m    \u001b[49m\u001b[43mretain_graph\u001b[49m\u001b[43m,\u001b[49m\n\u001b[1;32m    293\u001b[0m \u001b[43m    \u001b[49m\u001b[43mcreate_graph\u001b[49m\u001b[43m,\u001b[49m\n\u001b[1;32m    294\u001b[0m \u001b[43m    \u001b[49m\u001b[43minputs\u001b[49m\u001b[43m,\u001b[49m\n\u001b[1;32m    295\u001b[0m \u001b[43m    \u001b[49m\u001b[43mallow_unreachable\u001b[49m\u001b[38;5;241;43m=\u001b[39;49m\u001b[38;5;28;43;01mTrue\u001b[39;49;00m\u001b[43m,\u001b[49m\n\u001b[1;32m    296\u001b[0m \u001b[43m    \u001b[49m\u001b[43maccumulate_grad\u001b[49m\u001b[38;5;241;43m=\u001b[39;49m\u001b[38;5;28;43;01mTrue\u001b[39;49;00m\u001b[43m,\u001b[49m\n\u001b[1;32m    297\u001b[0m \u001b[43m\u001b[49m\u001b[43m)\u001b[49m\n",
      "File \u001b[0;32m~/fall2024/521/hw1/env/lib/python3.12/site-packages/torch/autograd/graph.py:769\u001b[0m, in \u001b[0;36m_engine_run_backward\u001b[0;34m(t_outputs, *args, **kwargs)\u001b[0m\n\u001b[1;32m    767\u001b[0m     unregister_hooks \u001b[38;5;241m=\u001b[39m _register_logging_hooks_on_whole_graph(t_outputs)\n\u001b[1;32m    768\u001b[0m \u001b[38;5;28;01mtry\u001b[39;00m:\n\u001b[0;32m--> 769\u001b[0m     \u001b[38;5;28;01mreturn\u001b[39;00m \u001b[43mVariable\u001b[49m\u001b[38;5;241;43m.\u001b[39;49m\u001b[43m_execution_engine\u001b[49m\u001b[38;5;241;43m.\u001b[39;49m\u001b[43mrun_backward\u001b[49m\u001b[43m(\u001b[49m\u001b[43m  \u001b[49m\u001b[38;5;66;43;03m# Calls into the C++ engine to run the backward pass\u001b[39;49;00m\n\u001b[1;32m    770\u001b[0m \u001b[43m        \u001b[49m\u001b[43mt_outputs\u001b[49m\u001b[43m,\u001b[49m\u001b[43m \u001b[49m\u001b[38;5;241;43m*\u001b[39;49m\u001b[43margs\u001b[49m\u001b[43m,\u001b[49m\u001b[43m \u001b[49m\u001b[38;5;241;43m*\u001b[39;49m\u001b[38;5;241;43m*\u001b[39;49m\u001b[43mkwargs\u001b[49m\n\u001b[1;32m    771\u001b[0m \u001b[43m    \u001b[49m\u001b[43m)\u001b[49m  \u001b[38;5;66;03m# Calls into the C++ engine to run the backward pass\u001b[39;00m\n\u001b[1;32m    772\u001b[0m \u001b[38;5;28;01mfinally\u001b[39;00m:\n\u001b[1;32m    773\u001b[0m     \u001b[38;5;28;01mif\u001b[39;00m attach_logging_hooks:\n",
      "\u001b[0;31mKeyboardInterrupt\u001b[0m: "
     ]
    }
   ],
   "source": [
    "model = Net()\n",
    "\n",
    "model = model.to(device)\n",
    "model.train()\n",
    "torch.manual_seed(42)\n",
    "opt = optim.Adam(model.parameters(), lr=1e-3)\n",
    "\n",
    "EPSILON = 0.1\n",
    "epsilon_schedule = epsilon_scheduler(EPSILON)\n",
    "kappa_schedule = kappa_scheduler()\n",
    "batch_counter = 0\n",
    "\n",
    "print(\"Epoch   \", \"Combined Loss\", \"Test Acc\", \"Test Robust Err\", sep=\"\\t\")\n",
    "losses = []\n",
    "test_errs = []\n",
    "robust_errs = []\n",
    "training_robust_errs = []\n",
    "for t in range(100):\n",
    "    training_robust_err, combined_loss = robust_train_loop(train_loader, model, epsilon_schedule, kappa_schedule, batch_counter, opt)\n",
    "    batch_counter += 500\n",
    "    \n",
    "    if t == 24:  #decrease learning rate after 25 epochs\n",
    "        for param_group in opt.param_groups:\n",
    "            param_group[\"lr\"] = 1e-4\n",
    "\n",
    "    if t == 49:  #decrease learning rate after 49 epochs\n",
    "        for param_group in opt.param_groups:\n",
    "            param_group[\"lr\"] = 1e-5\n",
    "    \n",
    "    test_err = test_model(model, test_loader)\n",
    "    robust_err = test_robust_model(model, test_loader, EPSILON)\n",
    "    test_errs.append(test_err)\n",
    "    robust_errs.append(robust_err)\n",
    "\n",
    "    print(*(\"{:.6f}\".format(i) for i in (t, combined_loss, test_err, robust_err)), sep=\"\\t\")\n",
    "\n",
    "    training_robust_errs.append(training_robust_err)\n",
    "    losses.append(combined_loss)\n"
   ]
  },
  {
   "cell_type": "code",
   "execution_count": 105,
   "metadata": {},
   "outputs": [
    {
     "name": "stdout",
     "output_type": "stream",
     "text": [
      "tensor(0.9586)\n",
      "tensor([False, False, False, False, False, False, False, False, False, False,\n",
      "        False, False, False])\n"
     ]
    }
   ],
   "source": [
    "x = torch.tensor([[ 0.0000, 18.2334,  8.1572, 15.0878, 25.3393,  7.7511,  9.6636, 17.2925,\n",
    "         10.7932, 17.1215],\n",
    "        [ 0.0000, 14.8671,  8.8950,  9.6338, 12.9776,  5.2151, 10.9705, 11.0506,\n",
    "          9.6674, 10.8431],\n",
    "        [ 0.0000, 11.5153,  4.5781,  8.3999, 15.9921,  5.0835,  7.3418,  8.6893,\n",
    "          4.8071,  8.7620],\n",
    "        [ 0.0000, 10.8952,  6.7174,  5.9629,  8.9658,  2.3005,  5.7246,  7.8472,\n",
    "          7.2822, 10.0743],\n",
    "        [ 0.0000, 13.9882,  8.8359, 11.0458, 13.4222,  5.2202,  8.3964, 10.7163,\n",
    "          9.5742, 10.3002],\n",
    "        [ 0.0000, 10.5153,  6.3486,  7.9926,  8.2773,  3.3717,  2.4933,  9.2928,\n",
    "          6.4199,  8.4228],\n",
    "        [ 0.0000, 17.6194,  8.3043, 13.4829, 21.4512,  8.5918, 10.0416, 14.0710,\n",
    "          9.0490, 13.5330],\n",
    "        [ 0.0000,  5.0181,  1.8789,  2.4534,  6.0787,  1.2094,  4.4104,  4.1585,\n",
    "          1.5410,  2.3737],\n",
    "        [ 0.0000, 21.9924, 11.0901, 14.4630, 24.9786,  9.6433, 15.4083, 16.3441,\n",
    "         10.9652, 14.3005],\n",
    "        [ 0.0000, 13.2877,  4.8341,  7.3551, 16.4596,  5.1211, 11.5874,  6.0103,\n",
    "          5.2093,  5.6235],\n",
    "        [ 0.0000, 10.8487,  4.3757,  7.9740, 13.4431,  5.1206,  6.5710,  6.6536,\n",
    "          5.0721,  7.3472],\n",
    "        [ 0.0000, 14.5576,  7.9286, 10.2530, 17.8881,  4.7228, 10.1843, 11.7837,\n",
    "          8.4454, 10.6933],\n",
    "        [ 0.0000, 15.1551,  7.8471, 12.2526, 22.3608,  5.0295, 12.0667, 12.3506,\n",
    "          8.4002, 11.3248]])\n",
    "s = torch.tensor(13*[0])\n",
    "\n",
    "print(nn.CrossEntropyLoss(reduction='sum')(-x, s))\n",
    "print(x.min(dim=1))"
   ]
  },
  {
   "cell_type": "code",
   "execution_count": 120,
   "metadata": {},
   "outputs": [
    {
     "name": "stdout",
     "output_type": "stream",
     "text": [
      "24500\n"
     ]
    }
   ],
   "source": [
    "print(batch_counter)"
   ]
  },
  {
   "cell_type": "code",
   "execution_count": 114,
   "metadata": {},
   "outputs": [
    {
     "data": {
      "text/plain": [
       "10000"
      ]
     },
     "execution_count": 114,
     "metadata": {},
     "output_type": "execute_result"
    }
   ],
   "source": [
    "len(test_loader.dataset)"
   ]
  },
  {
   "cell_type": "code",
   "execution_count": null,
   "metadata": {},
   "outputs": [],
   "source": []
  }
 ],
 "metadata": {
  "colab": {
   "provenance": []
  },
  "kernelspec": {
   "display_name": "env",
   "language": "python",
   "name": "env"
  },
  "language_info": {
   "codemirror_mode": {
    "name": "ipython",
    "version": 3
   },
   "file_extension": ".py",
   "mimetype": "text/x-python",
   "name": "python",
   "nbconvert_exporter": "python",
   "pygments_lexer": "ipython3",
   "version": "3.12.2"
  }
 },
 "nbformat": 4,
 "nbformat_minor": 1
}

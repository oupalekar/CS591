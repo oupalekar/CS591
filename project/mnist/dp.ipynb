{
 "cells": [
  {
   "cell_type": "code",
   "execution_count": 2,
   "metadata": {},
   "outputs": [],
   "source": [
    "%load_ext autoreload\n",
    "%autoreload 2\n"
   ]
  },
  {
   "cell_type": "code",
   "execution_count": 4,
   "metadata": {},
   "outputs": [],
   "source": [
    "import sys\n",
    "sys.path.insert(1, \"/home/oru2/project/project\")"
   ]
  },
  {
   "cell_type": "code",
   "execution_count": 5,
   "metadata": {},
   "outputs": [],
   "source": [
    "import torch\n",
    "import torch.nn as nn\n",
    "import torch.optim as optim\n",
    "import torch.nn.functional as F\n",
    "import numpy as np\n",
    "import time\n",
    "# import matplotlib.pyplot as plt\n",
    "import attacks\n",
    "from privacy_accountant import PrivacyAccountant\n",
    "from tqdm import tqdm\n",
    "from torchvision import datasets, transforms\n"
   ]
  },
  {
   "cell_type": "code",
   "execution_count": 6,
   "metadata": {},
   "outputs": [],
   "source": [
    "use_cuda = True\n",
    "device = torch.device(\"cuda\" if use_cuda else \"cpu\")\n",
    "batch_size = 100\n",
    "\n",
    "np.random.seed(42)\n",
    "torch.manual_seed(42)\n",
    "\n",
    "\n",
    "## Dataloaders\n",
    "train_dataset = datasets.MNIST('../mnist_data/', train=True, download=True, transform=transforms.Compose(\n",
    "    [transforms.ToTensor()]\n",
    "))\n",
    "test_dataset = datasets.MNIST('../mnist_data/', train=False, download=True, transform=transforms.Compose(\n",
    "    [transforms.ToTensor()]\n",
    "))\n",
    "\n",
    "train_loader = torch.utils.data.DataLoader(train_dataset, batch_size=batch_size, shuffle=True)\n",
    "test_loader = torch.utils.data.DataLoader(test_dataset, batch_size=batch_size, shuffle=False)\n",
    "attack = attacks.PGD()\n"
   ]
  },
  {
   "cell_type": "code",
   "execution_count": 7,
   "metadata": {},
   "outputs": [],
   "source": [
    "import warnings\n",
    "warnings.simplefilter(\"ignore\")\n",
    "\n",
    "MAX_GRAD_NORM = 1.2\n",
    "EPSILON = 1\n",
    "DELTA = 1e-5\n",
    "EPOCHS = 20\n",
    "\n",
    "LR = 1e-3\n",
    "BATCH_SIZE = 100\n",
    "MAX_PHYSICAL_BATCH_SIZE = 12"
   ]
  },
  {
   "cell_type": "code",
   "execution_count": 6,
   "metadata": {},
   "outputs": [],
   "source": [
    "def accuracy(preds, labels):\n",
    "    return (preds == labels).mean()"
   ]
  },
  {
   "cell_type": "code",
   "execution_count": 8,
   "metadata": {},
   "outputs": [
    {
     "data": {
      "text/plain": [
       "fcNet(\n",
       "  (layers): Sequential(\n",
       "    (0): Flatten(start_dim=1, end_dim=-1)\n",
       "    (1): RNNLinear(in_features=784, out_features=128, bias=True)\n",
       "    (2): ReLU(inplace=True)\n",
       "    (3): RNNLinear(in_features=128, out_features=128, bias=True)\n",
       "    (4): ReLU(inplace=True)\n",
       "    (5): RNNLinear(in_features=128, out_features=10, bias=True)\n",
       "  )\n",
       ")"
      ]
     },
     "execution_count": 8,
     "metadata": {},
     "output_type": "execute_result"
    }
   ],
   "source": [
    "from model import fcNet\n",
    "fc_model = fcNet(784, 128, 10).to(device)\n",
    "num_epochs = 20\n",
    "fc_model\n"
   ]
  },
  {
   "cell_type": "code",
   "execution_count": 67,
   "metadata": {},
   "outputs": [
    {
     "data": {
      "text/plain": [
       "[]"
      ]
     },
     "execution_count": 67,
     "metadata": {},
     "output_type": "execute_result"
    }
   ],
   "source": [
    "from opacus.validators import ModuleValidator\n",
    "model = ModuleValidator.fix(fc_model)\n",
    "ModuleValidator.validate(model, strict=False)"
   ]
  },
  {
   "cell_type": "code",
   "execution_count": 9,
   "metadata": {},
   "outputs": [],
   "source": [
    "\n",
    "criterion = nn.CrossEntropyLoss(reduction = 'none')\n",
    "optimizer = optim.SGD(fc_model.parameters(), lr=LR)\n",
    "# # model.remove_hooks()\n",
    "# model, optimizer, train_loader = privacy_engine.make_private_with_epsilon(\n",
    "#     module=fc_model,\n",
    "#     optimizer=optimizer,\n",
    "#     data_loader=train_loader,\n",
    "#     epochs=EPOCHS,\n",
    "#     target_epsilon=EPSILON,\n",
    "#     target_delta=DELTA,\n",
    "#     max_grad_norm=MAX_GRAD_NORM,\n",
    "#     grad_sample_mode = \"functorch\"\n",
    "# )\n",
    "\n",
    "# print(f\"Using sigma={optimizer.noise_multiplier} and C={MAX_GRAD_NORM}\")"
   ]
  },
  {
   "cell_type": "code",
   "execution_count": 10,
   "metadata": {},
   "outputs": [],
   "source": [
    "from opacus.accountants import RDPAccountant\n",
    "from opacus.utils.batch_memory_manager import BatchMemoryManager\n",
    "n = 60000\n",
    "# Create an RDP (Rényi Differential Privacy) accountant\n",
    "accountant = RDPAccountant()"
   ]
  },
  {
   "cell_type": "code",
   "execution_count": 12,
   "metadata": {},
   "outputs": [],
   "source": [
    "from torch.nn.utils import clip_grad_norm_\n",
    "\n",
    "noise_multiplier = 1.1\n",
    "def train_dp(model, trainloader, optimizer, epoch, accountant, num_microbatches = 100):\n",
    "    \"\"\"\n",
    "    Differentially Private version of the training procedure\n",
    "\n",
    "    :param trainloader:\n",
    "    :param model:\n",
    "    :param optimizer:\n",
    "    :param epoch:\n",
    "    :return:\n",
    "    \"\"\"\n",
    "    model.train()\n",
    "    running_loss = 0.0\n",
    "    for i, data in tqdm(enumerate(trainloader, 0), leave=True):\n",
    "        inputs, labels = data\n",
    "        inputs = inputs.to(device)\n",
    "        labels = labels.to(device)\n",
    "        optimizer.zero_grad()\n",
    "\n",
    "        outputs = model(inputs)\n",
    "        loss = criterion(outputs, labels)\n",
    "        running_loss += torch.mean(loss).item()\n",
    "        \n",
    "        losses = torch.mean(loss.reshape(num_microbatches, -1), dim=1)\n",
    "        saved_var = dict()\n",
    "        for tensor_name, tensor in model.named_parameters():\n",
    "            saved_var[tensor_name] = torch.zeros_like(tensor)\n",
    "\n",
    "        for j in losses:\n",
    "            j.backward(retain_graph=True)\n",
    "            torch.nn.utils.clip_grad_norm_(model.parameters(), MAX_GRAD_NORM)\n",
    "            for tensor_name, tensor in model.named_parameters():\n",
    "                new_grad = tensor.grad\n",
    "                saved_var[tensor_name].add_(new_grad)\n",
    "            model.zero_grad()\n",
    "\n",
    "        for tensor_name, tensor in model.named_parameters():\n",
    "            if device.type =='cuda':\n",
    "                noise = torch.cuda.FloatTensor(tensor.shape).normal_(0, noise_multiplier)\n",
    "            else:\n",
    "                noise = torch.FloatTensor(tensor.shape).normal_(0, noise_multiplier)\n",
    "            saved_var[tensor_name].add_(noise)\n",
    "            tensor.grad = saved_var[tensor_name] / num_microbatches\n",
    "        optimizer.step()\n",
    "        accountant.step(noise_multiplier=1.1, sample_rate=50/60000)\n",
    "\n",
    "        # if i > 0 and i % 20 == 0:\n",
    "        #     print('[%d, %5d] loss: %.3f' % (epoch + 1, i + 1, running_loss / 2000))\n",
    "            # plot(epoch * len(trainloader) + i, running_loss, 'Train Loss')\n",
    "            # running_loss = 0.0"
   ]
  },
  {
   "cell_type": "code",
   "execution_count": 13,
   "metadata": {},
   "outputs": [
    {
     "name": "stderr",
     "output_type": "stream",
     "text": [
      "Epoch:   0%|          | 0/20 [00:00<?, ?epoch/s]"
     ]
    },
    {
     "name": "stderr",
     "output_type": "stream",
     "text": [
      "600it [01:17,  7.78it/s]\n",
      "600it [01:14,  8.07it/s]1/20 [01:17<24:24, 77.10s/epoch]\n",
      "600it [01:17,  7.70it/s]2/20 [02:31<22:38, 75.48s/epoch]\n",
      "600it [01:18,  7.68it/s]3/20 [03:49<21:42, 76.60s/epoch]\n",
      "600it [01:19,  7.59it/s]4/20 [05:07<20:35, 77.20s/epoch]\n",
      "600it [01:18,  7.69it/s]5/20 [06:26<19:28, 77.88s/epoch]\n",
      "600it [01:19,  7.58it/s]6/20 [07:44<18:10, 77.93s/epoch]\n",
      "600it [01:18,  7.67it/s]7/20 [09:03<16:58, 78.34s/epoch]\n",
      "600it [01:18,  7.68it/s]8/20 [10:22<15:39, 78.32s/epoch]\n",
      "600it [01:17,  7.73it/s]9/20 [11:40<14:20, 78.27s/epoch]\n",
      "600it [01:20,  7.46it/s]10/20 [12:57<13:00, 78.08s/epoch]\n",
      "600it [01:15,  7.91it/s]11/20 [14:18<11:49, 78.80s/epoch]\n",
      "600it [01:16,  7.87it/s]12/20 [15:34<10:23, 77.89s/epoch]\n",
      "600it [01:16,  7.89it/s]13/20 [16:50<09:01, 77.39s/epoch]\n",
      "600it [01:24,  7.07it/s]14/20 [18:06<07:41, 76.99s/epoch]\n",
      "600it [01:16,  7.89it/s]15/20 [19:31<06:36, 79.37s/epoch]\n",
      "600it [01:15,  7.91it/s]16/20 [20:47<05:13, 78.39s/epoch]\n",
      "600it [01:15,  7.91it/s]17/20 [22:03<03:52, 77.64s/epoch]\n",
      "600it [01:15,  7.91it/s]18/20 [23:19<02:34, 77.10s/epoch]\n",
      "600it [01:15,  7.92it/s]19/20 [24:35<01:16, 76.73s/epoch]\n",
      "Epoch: 100%|██████████| 20/20 [25:50<00:00, 77.54s/epoch]\n"
     ]
    }
   ],
   "source": [
    "# train(fc_model, train_loader, optimizer, EPOCHS, device)\n",
    "for epoch in tqdm(range(EPOCHS), desc=\"Epoch\", unit=\"epoch\"):\n",
    "    train_dp(fc_model, train_loader, optimizer, epoch + 1, accountant)"
   ]
  },
  {
   "cell_type": "code",
   "execution_count": 14,
   "metadata": {},
   "outputs": [],
   "source": [
    "torch.save(fc_model, 'models/dp.pt')"
   ]
  },
  {
   "cell_type": "code",
   "execution_count": 17,
   "metadata": {},
   "outputs": [
    {
     "name": "stdout",
     "output_type": "stream",
     "text": [
      "0.609154566959366\n"
     ]
    },
    {
     "data": {
      "text/plain": [
       "0.6120170135465238"
      ]
     },
     "execution_count": 17,
     "metadata": {},
     "output_type": "execute_result"
    }
   ],
   "source": [
    "print(accountant.get_epsilon(delta=1e-5))\n",
    "accountant.step(noise_multiplier=1.1, sample_rate=100/60000)\n",
    "accountant.get_epsilon(1e-5)"
   ]
  },
  {
   "cell_type": "code",
   "execution_count": 12,
   "metadata": {},
   "outputs": [
    {
     "name": "stdout",
     "output_type": "stream",
     "text": [
      "Accuracy = 81.61%\n"
     ]
    }
   ],
   "source": [
    "correct = 0\n",
    "fc_model.eval()\n",
    "for j, (images, labels) in enumerate(test_loader):\n",
    "  images, labels = images.to(device), labels.to(device)\n",
    "  logits = fc_model(images)\n",
    "  _, preds = torch.max(logits, 1)\n",
    "  correct += (preds == labels).sum().item()\n",
    "  # print('Batch [{}/{}]'.format(j+1, len(test_loader)))\n",
    "fc_model.train()\n",
    "print('Accuracy = {}%'.format(float(correct) * 100 / 10000))"
   ]
  },
  {
   "cell_type": "code",
   "execution_count": 44,
   "metadata": {},
   "outputs": [],
   "source": [
    "from art.attacks.inference.membership_inference import MembershipInferenceBlackBox\n",
    "from art.estimators.classification import PyTorchClassifier\n",
    "art_classifier = PyTorchClassifier(\n",
    "    model=model,\n",
    "    loss=criterion,\n",
    "    optimizer=optimizer,\n",
    "    input_shape=(28, 28),\n",
    "    nb_classes=10\n",
    ")"
   ]
  },
  {
   "cell_type": "code",
   "execution_count": 13,
   "metadata": {},
   "outputs": [
    {
     "name": "stdout",
     "output_type": "stream",
     "text": [
      "Accuracy = 41.99%\n"
     ]
    }
   ],
   "source": [
    "# from art.attacks.evasion.projected_gradient_descent.projected_gradient_descent_pytorch import ProjectedGradientDescentPyTorch\n",
    "\n",
    "# pgd_attacker = ProjectedGradientDescentPyTorch(art_classifier, eps = 0.1, eps_step=0.01, max_iter=20)\n",
    "\n",
    "correct = 0\n",
    "eps = 0.1\n",
    "fc_model.eval()\n",
    "for j, (images, labels) in enumerate(test_loader):\n",
    "  images, labels = images.to(device), labels.to(device)\n",
    "  adv_images = attack.pgd_untargeted(fc_model, images, labels, 20, eps, 0.01)\n",
    "  logits = fc_model(images.to(device))\n",
    "  adv_logits = fc_model(adv_images.to(device))\n",
    "  _, preds = torch.max(logits, 1)\n",
    "  _, adv_preds = torch.max(adv_logits, 1)\n",
    "  correct += (preds == labels).sum().item()\n",
    "  correct += (adv_preds == labels).sum().item()\n",
    "  # print('Batch [{}/{}]'.format(j+1, len(test_loader)))\n",
    "fc_model.train()\n",
    "print('Accuracy = {}%'.format(float(correct) * 100 / 20000))"
   ]
  },
  {
   "cell_type": "code",
   "execution_count": 13,
   "metadata": {},
   "outputs": [
    {
     "name": "stdout",
     "output_type": "stream",
     "text": [
      "Module RNNLinear(in_features=784, out_features=128, bias=True): activations list length = []\n",
      "Module RNNLinear(in_features=128, out_features=128, bias=True): activations list length = []\n",
      "Module RNNLinear(in_features=128, out_features=10, bias=True): activations list length = []\n"
     ]
    }
   ],
   "source": [
    "def check_hook_registration(model):\n",
    "    # print(model.modules)\n",
    "    for module in model.modules():\n",
    "        if hasattr(module, 'activations'):\n",
    "            print(f\"Module {module}: activations list length = {module.activations}\")\n",
    "\n",
    "check_hook_registration(model)"
   ]
  },
  {
   "cell_type": "code",
   "execution_count": 14,
   "metadata": {},
   "outputs": [],
   "source": [
    "from art.attacks.inference.membership_inference import MembershipInferenceBlackBox\n",
    "from art.estimators.classification import PyTorchClassifier"
   ]
  },
  {
   "cell_type": "code",
   "execution_count": 15,
   "metadata": {},
   "outputs": [],
   "source": [
    "# optimizer = torch.optim.Adam(fc_model.parameters())\n",
    "# optimizer = optim.RMSprop(fc_model.parameters(), lr=LR)\n",
    "# criterion = nn.CrossEntropyLoss()\n",
    "\n",
    "# Wrap the PyTorch model in ART's PyTorchClassifier\n",
    "art_classifier = PyTorchClassifier(\n",
    "    model=fc_model,\n",
    "    loss=criterion,\n",
    "    optimizer=optimizer,\n",
    "    input_shape=(28, 28),\n",
    "    nb_classes=10\n",
    ")\n",
    "attack_train_size = 10000\n",
    "attack_test_size = 5000\n",
    "\n",
    "x_train = train_dataset.data\n",
    "y_train = train_dataset.targets\n",
    "\n",
    "\n",
    "x_test = test_dataset.data\n",
    "y_test = test_dataset.targets\n",
    "\n",
    "attack = MembershipInferenceBlackBox(estimator=art_classifier, attack_model_type=\"nn\")\n",
    "attack.fit(x_train[:attack_train_size], y_train[:attack_train_size], x_test[:attack_test_size], y_test[:attack_test_size])\n",
    "\n",
    "mlp_inferred_train_bb = attack.infer(x_train[attack_train_size:], y_train[attack_train_size:])\n",
    "mlp_inferred_test_bb = attack.infer(x_test[attack_test_size:], y_test[attack_test_size:])\n",
    "\n",
    "# check accuracy\n",
    "mlp_train_acc_bb = np.sum(mlp_inferred_train_bb) / len(mlp_inferred_train_bb)\n",
    "mlp_test_acc_bb = 1 - (np.sum(mlp_inferred_test_bb) / len(mlp_inferred_test_bb))\n",
    "mlp_acc_bb = (mlp_train_acc_bb * len(mlp_inferred_train_bb) + mlp_test_acc_bb * len(mlp_inferred_test_bb)) / (len(mlp_inferred_train_bb) + len(mlp_inferred_test_bb))\n"
   ]
  },
  {
   "cell_type": "code",
   "execution_count": 16,
   "metadata": {},
   "outputs": [
    {
     "name": "stdout",
     "output_type": "stream",
     "text": [
      "Members Accuracy: 0.7896\n",
      "Non Members Accuracy 0.1430\n",
      "Attack Accuracy 0.7309\n"
     ]
    }
   ],
   "source": [
    "print(f\"Members Accuracy: {mlp_train_acc_bb:.4f}\")\n",
    "print(f\"Non Members Accuracy {mlp_test_acc_bb:.4f}\")\n",
    "print(f\"Attack Accuracy {mlp_acc_bb:.4f}\")"
   ]
  },
  {
   "cell_type": "code",
   "execution_count": 21,
   "metadata": {},
   "outputs": [
    {
     "ename": "TypeError",
     "evalue": "RDPAccountant.__init__() got an unexpected keyword argument 'noise_multiplier'",
     "output_type": "error",
     "traceback": [
      "\u001b[0;31m---------------------------------------------------------------------------\u001b[0m",
      "\u001b[0;31mTypeError\u001b[0m                                 Traceback (most recent call last)",
      "Cell \u001b[0;32mIn[21], line 5\u001b[0m\n\u001b[1;32m      3\u001b[0m n \u001b[38;5;241m=\u001b[39m \u001b[38;5;241m60000\u001b[39m\n\u001b[1;32m      4\u001b[0m \u001b[38;5;66;03m# Create an RDP (Rényi Differential Privacy) accountant\u001b[39;00m\n\u001b[0;32m----> 5\u001b[0m accountant \u001b[38;5;241m=\u001b[39m \u001b[43mRDPAccountant\u001b[49m\u001b[43m(\u001b[49m\u001b[43mnoise_multiplier\u001b[49m\u001b[38;5;241;43m=\u001b[39;49m\u001b[38;5;241;43m1.1\u001b[39;49m\u001b[43m,\u001b[49m\u001b[43m \u001b[49m\u001b[43msample_rate\u001b[49m\u001b[38;5;241;43m=\u001b[39;49m\u001b[43mbatch_size\u001b[49m\u001b[38;5;241;43m/\u001b[39;49m\u001b[43mn\u001b[49m\u001b[43m)\u001b[49m\n\u001b[1;32m      7\u001b[0m \u001b[38;5;66;03m# Compute privacy budget\u001b[39;00m\n\u001b[1;32m      8\u001b[0m epsilon \u001b[38;5;241m=\u001b[39m accountant\u001b[38;5;241m.\u001b[39mget_privacy_spent(delta\u001b[38;5;241m=\u001b[39m\u001b[38;5;241m1e-5\u001b[39m)\n",
      "\u001b[0;31mTypeError\u001b[0m: RDPAccountant.__init__() got an unexpected keyword argument 'noise_multiplier'"
     ]
    }
   ],
   "source": [
    "from opacus.accountants import RDPAccountant\n",
    "from opacus.utils.batch_memory_manager import BatchMemoryManager\n",
    "n = 60000\n",
    "# Create an RDP (Rényi Differential Privacy) accountant\n",
    "accountant = RDPAccountant(noise_multiplier=1.1, sample_rate=batch_size/n)\n",
    "\n",
    "# Compute privacy budget\n",
    "epsilon = accountant.get_privacy_spent(delta=1e-5)"
   ]
  }
 ],
 "metadata": {
  "kernelspec": {
   "display_name": "env",
   "language": "python",
   "name": "python3"
  },
  "language_info": {
   "codemirror_mode": {
    "name": "ipython",
    "version": 3
   },
   "file_extension": ".py",
   "mimetype": "text/x-python",
   "name": "python",
   "nbconvert_exporter": "python",
   "pygments_lexer": "ipython3",
   "version": "3.10.12"
  }
 },
 "nbformat": 4,
 "nbformat_minor": 2
}

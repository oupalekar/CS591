{
 "cells": [
  {
   "cell_type": "code",
   "execution_count": 1,
   "metadata": {},
   "outputs": [],
   "source": [
    "%load_ext autoreload\n",
    "%autoreload 2\n"
   ]
  },
  {
   "cell_type": "code",
   "execution_count": 2,
   "metadata": {},
   "outputs": [],
   "source": [
    "import sys\n",
    "sys.path.insert(1, \"/home/oru2/project/project\")"
   ]
  },
  {
   "cell_type": "code",
   "execution_count": 3,
   "metadata": {},
   "outputs": [],
   "source": [
    "import torch\n",
    "import torch.nn as nn\n",
    "import torch.optim as optim\n",
    "import torch.nn.functional as F\n",
    "import numpy as np\n",
    "import time\n",
    "# import matplotlib.pyplot as plt\n",
    "import attacks\n",
    "from privacy_accountant import PrivacyAccountant\n",
    "from tqdm import tqdm\n",
    "from torchvision import datasets, transforms\n"
   ]
  },
  {
   "cell_type": "code",
   "execution_count": 18,
   "metadata": {},
   "outputs": [
    {
     "name": "stdout",
     "output_type": "stream",
     "text": [
      "The history saving thread hit an unexpected error (OperationalError('unable to open database file')).History will not be written to the database.\n"
     ]
    }
   ],
   "source": [
    "use_cuda = True\n",
    "device = torch.device(\"cuda\" if use_cuda else \"cpu\")\n",
    "batch_size = 100\n",
    "\n",
    "np.random.seed(42)\n",
    "torch.manual_seed(42)\n",
    "\n",
    "\n",
    "## Dataloaders\n",
    "train_dataset = datasets.MNIST('../mnist_data/', train=True, download=True, transform=transforms.Compose(\n",
    "    [transforms.ToTensor()]\n",
    "))\n",
    "test_dataset = datasets.MNIST('../mnist_data/', train=False, download=True, transform=transforms.Compose(\n",
    "    [transforms.ToTensor()]\n",
    "))\n",
    "\n",
    "train_loader = torch.utils.data.DataLoader(train_dataset, batch_size=batch_size, shuffle=True)\n",
    "test_loader = torch.utils.data.DataLoader(test_dataset, batch_size=batch_size, shuffle=False)\n",
    "attack = attacks.PGD()\n"
   ]
  },
  {
   "cell_type": "code",
   "execution_count": 6,
   "metadata": {},
   "outputs": [],
   "source": [
    "import warnings\n",
    "warnings.simplefilter(\"ignore\")\n",
    "\n",
    "MAX_GRAD_NORM = 1.2\n",
    "EPSILON = 1\n",
    "DELTA = 1e-5\n",
    "EPOCHS = 20\n",
    "\n",
    "LR = 1e-3\n",
    "BATCH_SIZE = 100\n",
    "MAX_PHYSICAL_BATCH_SIZE = 12"
   ]
  },
  {
   "cell_type": "code",
   "execution_count": 5,
   "metadata": {},
   "outputs": [
    {
     "data": {
      "text/plain": [
       "fcNet(\n",
       "  (layers): Sequential(\n",
       "    (0): Flatten(start_dim=1, end_dim=-1)\n",
       "    (1): RNNLinear(in_features=784, out_features=128, bias=True)\n",
       "    (2): ReLU(inplace=True)\n",
       "    (3): RNNLinear(in_features=128, out_features=128, bias=True)\n",
       "    (4): ReLU(inplace=True)\n",
       "    (5): RNNLinear(in_features=128, out_features=10, bias=True)\n",
       "  )\n",
       ")"
      ]
     },
     "execution_count": 5,
     "metadata": {},
     "output_type": "execute_result"
    }
   ],
   "source": [
    "from model import fcNet\n",
    "fc_model = fcNet(784, 128, 10).to(device)\n",
    "num_epochs = 20\n",
    "fc_model\n"
   ]
  },
  {
   "cell_type": "code",
   "execution_count": null,
   "metadata": {},
   "outputs": [],
   "source": [
    "\n",
    "criterion = nn.CrossEntropyLoss(reduction = 'none')\n",
    "optimizer = optim.SGD(fc_model.parameters(), lr=LR)"
   ]
  },
  {
   "cell_type": "code",
   "execution_count": 5,
   "metadata": {},
   "outputs": [
    {
     "data": {
      "text/plain": [
       "1.2331912114223702"
      ]
     },
     "execution_count": 5,
     "metadata": {},
     "output_type": "execute_result"
    }
   ],
   "source": [
    "from opacus.accountants import RDPAccountant\n",
    "from opacus.utils.batch_memory_manager import BatchMemoryManager\n",
    "n = 60000\n",
    "# Create an RDP (Rényi Differential Privacy) accountant\n",
    "accountant = RDPAccountant()\n",
    "for _ in range(24000):\n",
    "    accountant.step(noise_multiplier=1.1, sample_rate=100/60000)\n",
    "\n",
    "accountant.get_epsilon(1e-5)"
   ]
  },
  {
   "cell_type": "code",
   "execution_count": 16,
   "metadata": {},
   "outputs": [],
   "source": [
    "from torch.nn.utils import clip_grad_norm_\n",
    "\n",
    "noise_multiplier = 1.1\n",
    "def train_dp(model, trainloader, optimizer, epoch, accountant, num_microbatches = 100):\n",
    "    \"\"\"\n",
    "    Differentially Private version of the training procedure\n",
    "\n",
    "    :param trainloader:\n",
    "    :param model:\n",
    "    :param optimizer:\n",
    "    :param epoch:\n",
    "    :return:\n",
    "    \"\"\"\n",
    "    model.train()\n",
    "    running_loss = 0.0\n",
    "    for i, data in tqdm(enumerate(trainloader, 0), leave=True):\n",
    "        inputs, labels = data\n",
    "        inputs = inputs.to(device)\n",
    "        labels = labels.to(device)\n",
    "        optimizer.zero_grad()\n",
    "\n",
    "        outputs = model(inputs)\n",
    "        loss = criterion(outputs, labels)\n",
    "        running_loss += torch.mean(loss).item()\n",
    "        \n",
    "        losses = torch.mean(loss.reshape(num_microbatches, -1), dim=1)\n",
    "        saved_var = dict()\n",
    "        for tensor_name, tensor in model.named_parameters():\n",
    "            saved_var[tensor_name] = torch.zeros_like(tensor)\n",
    "\n",
    "        for j in losses:\n",
    "            j.backward(retain_graph=True)\n",
    "            torch.nn.utils.clip_grad_norm_(model.parameters(), MAX_GRAD_NORM)\n",
    "            for tensor_name, tensor in model.named_parameters():\n",
    "                new_grad = tensor.grad\n",
    "                saved_var[tensor_name].add_(new_grad)\n",
    "            model.zero_grad()\n",
    "\n",
    "        for tensor_name, tensor in model.named_parameters():\n",
    "            if device.type =='cuda':\n",
    "                noise = torch.cuda.FloatTensor(tensor.shape).normal_(0, noise_multiplier)\n",
    "            else:\n",
    "                noise = torch.FloatTensor(tensor.shape).normal_(0, noise_multiplier)\n",
    "            saved_var[tensor_name].add_(noise)\n",
    "            tensor.grad = saved_var[tensor_name] / num_microbatches\n",
    "        optimizer.step()\n",
    "        accountant.step(noise_multiplier=1.1, sample_rate=100/60000)\n",
    "\n",
    "        # if i > 0 and i % 20 == 0:\n",
    "        #     print('[%d, %5d] loss: %.3f' % (epoch + 1, i + 1, running_loss / 2000))\n",
    "            # plot(epoch * len(trainloader) + i, running_loss, 'Train Loss')\n",
    "            # running_loss = 0.0\n",
    "def train_dp_adv(model, trainloader, optimizer, epoch, accountant, num_microbatches = 100):\n",
    "    \"\"\"\n",
    "    Differentially Private version of the training procedure\n",
    "\n",
    "    :param trainloader:\n",
    "    :param model:\n",
    "    :param optimizer:\n",
    "    :param epoch:\n",
    "    :return:\n",
    "    \"\"\"\n",
    "    model.train()\n",
    "    running_loss = 0.0\n",
    "    for i, data in tqdm(enumerate(trainloader, 0), leave=True):\n",
    "        inputs, labels = data\n",
    "        inputs = inputs.to(device)\n",
    "        labels = labels.to(device)\n",
    "        optimizer.zero_grad()\n",
    "        adversary_images = attack.pgd_untargeted(model, inputs, labels, 10, 0.1, 0.01).to(device)\n",
    "        outputs = model(adversary_images)\n",
    "        loss = criterion(outputs, labels)\n",
    "        running_loss += torch.mean(loss).item()\n",
    "        \n",
    "        losses = torch.mean(loss.reshape(num_microbatches, -1), dim=1)\n",
    "        saved_var = dict()\n",
    "        for tensor_name, tensor in model.named_parameters():\n",
    "            saved_var[tensor_name] = torch.zeros_like(tensor)\n",
    "\n",
    "        for j in losses:\n",
    "            j.backward(retain_graph=True)\n",
    "            torch.nn.utils.clip_grad_norm_(model.parameters(), MAX_GRAD_NORM)\n",
    "            for tensor_name, tensor in model.named_parameters():\n",
    "                new_grad = tensor.grad\n",
    "                saved_var[tensor_name].add_(new_grad)\n",
    "            model.zero_grad()\n",
    "\n",
    "        for tensor_name, tensor in model.named_parameters():\n",
    "            if device.type =='cuda':\n",
    "                noise = torch.cuda.FloatTensor(tensor.shape).normal_(0, noise_multiplier)\n",
    "            else:\n",
    "                noise = torch.FloatTensor(tensor.shape).normal_(0, noise_multiplier)\n",
    "            saved_var[tensor_name].add_(noise)\n",
    "            tensor.grad = saved_var[tensor_name] / num_microbatches\n",
    "        optimizer.step()\n",
    "        accountant.step(noise_multiplier=1.1, sample_rate=100/60000)"
   ]
  },
  {
   "cell_type": "code",
   "execution_count": 19,
   "metadata": {},
   "outputs": [
    {
     "name": "stderr",
     "output_type": "stream",
     "text": [
      "600it [01:25,  7.02it/s]0/20 [00:00<?, ?epoch/s]\n",
      "600it [01:25,  7.06it/s]1/20 [01:25<27:04, 85.50s/epoch]\n",
      "600it [01:25,  7.05it/s]2/20 [02:50<25:33, 85.22s/epoch]\n",
      "600it [01:24,  7.07it/s]3/20 [04:15<24:07, 85.16s/epoch]\n",
      "600it [01:25,  7.06it/s]4/20 [05:40<22:40, 85.06s/epoch]\n",
      "600it [01:25,  7.06it/s]5/20 [07:05<21:15, 85.05s/epoch]\n",
      "600it [01:25,  7.05it/s]6/20 [08:30<19:50, 85.05s/epoch]\n",
      "600it [01:24,  7.06it/s]7/20 [09:55<18:25, 85.06s/epoch]\n",
      "600it [01:24,  7.10it/s]8/20 [11:20<17:00, 85.04s/epoch]\n",
      "600it [01:24,  7.09it/s]9/20 [12:45<15:33, 84.87s/epoch]\n",
      "600it [01:23,  7.18it/s]10/20 [14:09<14:07, 84.78s/epoch]\n",
      "600it [01:24,  7.09it/s]11/20 [15:33<12:39, 84.42s/epoch]\n",
      "600it [01:24,  7.08it/s]12/20 [16:58<11:15, 84.49s/epoch]\n",
      "600it [01:24,  7.08it/s]13/20 [18:22<09:51, 84.56s/epoch]\n",
      "600it [01:23,  7.15it/s]14/20 [19:47<08:27, 84.63s/epoch]\n",
      "600it [01:24,  7.12it/s]15/20 [21:11<07:02, 84.43s/epoch]\n",
      "600it [01:24,  7.11it/s]16/20 [22:35<05:37, 84.37s/epoch]\n",
      "600it [01:23,  7.15it/s]17/20 [24:00<04:13, 84.38s/epoch]\n",
      "600it [01:25,  7.04it/s]18/20 [25:24<02:48, 84.24s/epoch]\n",
      "600it [01:24,  7.06it/s]19/20 [26:49<01:24, 84.54s/epoch]\n",
      "Epoch: 100%|██████████| 20/20 [28:14<00:00, 84.71s/epoch]\n"
     ]
    }
   ],
   "source": [
    "# train(fc_model, train_loader, optimizer, EPOCHS, device)\n",
    "# for epoch in tqdm(range(EPOCHS), desc=\"Epoch\", unit=\"epoch\"):\n",
    "#     train_dp(fc_model, train_loader, optimizer, epoch + 1, accountant)\n",
    "\n",
    "ADV_EPOCHS = 20\n",
    "for epoch in tqdm(range(ADV_EPOCHS), desc=\"Epoch\", unit=\"epoch\"):\n",
    "    train_dp_adv(fc_model, train_loader, optimizer, epoch + 1, accountant)"
   ]
  },
  {
   "cell_type": "code",
   "execution_count": 25,
   "metadata": {},
   "outputs": [],
   "source": [
    "torch.save(fc_model, 'models/dp-adv.pt')"
   ]
  },
  {
   "cell_type": "code",
   "execution_count": null,
   "metadata": {},
   "outputs": [],
   "source": []
  },
  {
   "cell_type": "code",
   "execution_count": 7,
   "metadata": {},
   "outputs": [],
   "source": [
    "fc_model = torch.load(\"models/dp-adv.pt\")"
   ]
  },
  {
   "cell_type": "code",
   "execution_count": 21,
   "metadata": {},
   "outputs": [
    {
     "name": "stdout",
     "output_type": "stream",
     "text": [
      "Accuracy = 80.06%\n"
     ]
    }
   ],
   "source": [
    "correct = 0\n",
    "fc_model.eval()\n",
    "for j, (images, labels) in enumerate(test_loader):\n",
    "  images, labels = images.to(device), labels.to(device)\n",
    "  logits = fc_model(images)\n",
    "  _, preds = torch.max(logits, 1)\n",
    "  correct += (preds == labels).sum().item()\n",
    "  # print('Batch [{}/{}]'.format(j+1, len(test_loader)))\n",
    "fc_model.train()\n",
    "print('Accuracy = {}%'.format(float(correct) * 100 / 10000))"
   ]
  },
  {
   "cell_type": "code",
   "execution_count": 22,
   "metadata": {},
   "outputs": [
    {
     "name": "stdout",
     "output_type": "stream",
     "text": [
      "Accuracy = 53.73%\n"
     ]
    }
   ],
   "source": [
    "# from art.attacks.evasion.projected_gradient_descent.projected_gradient_descent_pytorch import ProjectedGradientDescentPyTorch\n",
    "\n",
    "# pgd_attacker = ProjectedGradientDescentPyTorch(art_classifier, eps = 0.1, eps_step=0.01, max_iter=20)\n",
    "\n",
    "correct = 0\n",
    "eps = 0.1\n",
    "fc_model.eval()\n",
    "for j, (images, labels) in enumerate(test_loader):\n",
    "  images, labels = images.to(device), labels.to(device)\n",
    "  adv_images = attack.pgd_untargeted(fc_model, images, labels, 20, eps, 0.01)\n",
    "  logits = fc_model(images.to(device))\n",
    "  adv_logits = fc_model(adv_images.to(device))\n",
    "  _, preds = torch.max(logits, 1)\n",
    "  _, adv_preds = torch.max(adv_logits, 1)\n",
    "  correct += (preds == labels).sum().item()\n",
    "  correct += (adv_preds == labels).sum().item()\n",
    "  # print('Batch [{}/{}]'.format(j+1, len(test_loader)))\n",
    "fc_model.train()\n",
    "print('Accuracy = {}%'.format(float(correct) * 100 / 20000))"
   ]
  },
  {
   "cell_type": "code",
   "execution_count": 27,
   "metadata": {},
   "outputs": [],
   "source": [
    "from art.attacks.inference.membership_inference import MembershipInferenceBlackBox\n",
    "from art.estimators.classification import PyTorchClassifier"
   ]
  },
  {
   "cell_type": "code",
   "execution_count": null,
   "metadata": {},
   "outputs": [],
   "source": [
    "# optimizer = torch.optim.Adam(fc_model.parameters())\n",
    "# optimizer = optim.RMSprop(fc_model.parameters(), lr=LR)\n",
    "# criterion = nn.CrossEntropyLoss()\n",
    "\n",
    "# Wrap the PyTorch model in ART's PyTorchClassifier\n",
    "art_classifier = PyTorchClassifier(\n",
    "    model=fc_model,\n",
    "    loss=criterion,\n",
    "    optimizer=optimizer,\n",
    "    input_shape=(28, 28),\n",
    "    nb_classes=10\n",
    ")\n",
    "attack_train_size = 10000\n",
    "attack_test_size = 5000\n",
    "\n",
    "x_train = train_dataset.data\n",
    "y_train = train_dataset.targets\n",
    "\n",
    "\n",
    "x_test = test_dataset.data\n",
    "y_test = test_dataset.targets\n",
    "\n",
    "attack = MembershipInferenceBlackBox(estimator=art_classifier, attack_model_type=\"nn\")\n",
    "attack.fit(x_train[:attack_train_size], y_train[:attack_train_size], x_test[:attack_test_size], y_test[:attack_test_size])\n",
    "\n",
    "mlp_inferred_train_bb = attack.infer(x_train[attack_train_size:], y_train[attack_train_size:])\n",
    "mlp_inferred_test_bb = attack.infer(x_test[attack_test_size:], y_test[attack_test_size:])\n",
    "\n",
    "# check accuracy\n",
    "mlp_train_acc_bb = np.sum(mlp_inferred_train_bb) / len(mlp_inferred_train_bb)\n",
    "mlp_test_acc_bb = 1 - (np.sum(mlp_inferred_test_bb) / len(mlp_inferred_test_bb))\n",
    "mlp_acc_bb = (mlp_train_acc_bb * len(mlp_inferred_train_bb) + mlp_test_acc_bb * len(mlp_inferred_test_bb)) / (len(mlp_inferred_train_bb) + len(mlp_inferred_test_bb))\n"
   ]
  },
  {
   "cell_type": "code",
   "execution_count": 16,
   "metadata": {},
   "outputs": [
    {
     "name": "stdout",
     "output_type": "stream",
     "text": [
      "Members Accuracy: 0.7896\n",
      "Non Members Accuracy 0.1430\n",
      "Attack Accuracy 0.7309\n"
     ]
    }
   ],
   "source": [
    "print(f\"Members Accuracy: {mlp_train_acc_bb:.4f}\")\n",
    "print(f\"Non Members Accuracy {mlp_test_acc_bb:.4f}\")\n",
    "print(f\"Attack Accuracy {mlp_acc_bb:.4f}\")"
   ]
  },
  {
   "cell_type": "code",
   "execution_count": 43,
   "metadata": {},
   "outputs": [
    {
     "ename": "NameError",
     "evalue": "name 'asanyarray' is not defined",
     "output_type": "error",
     "traceback": [
      "\u001b[0;31m---------------------------------------------------------------------------\u001b[0m",
      "\u001b[0;31mNameError\u001b[0m                                 Traceback (most recent call last)",
      "Cell \u001b[0;32mIn[43], line 6\u001b[0m\n\u001b[1;32m      1\u001b[0m n \u001b[38;5;241m=\u001b[39m \u001b[38;5;241m60000\u001b[39m\n\u001b[1;32m      2\u001b[0m \u001b[38;5;66;03m# Create an RDP (Rényi Differential Privacy) accountant\u001b[39;00m\n\u001b[1;32m      3\u001b[0m \n\u001b[1;32m      4\u001b[0m \u001b[38;5;66;03m# Compute privacy budget\u001b[39;00m\n\u001b[1;32m      5\u001b[0m \u001b[38;5;66;03m# epsilon = accountant.get_privacy_spent(delta=1e-5)\u001b[39;00m\n\u001b[0;32m----> 6\u001b[0m \u001b[43maccountant\u001b[49m\u001b[38;5;241;43m.\u001b[39;49m\u001b[43mget_epsilon\u001b[49m\u001b[43m(\u001b[49m\u001b[38;5;241;43m1e-5\u001b[39;49m\u001b[43m)\u001b[49m\n",
      "File \u001b[0;32m~/project/env/lib/python3.10/site-packages/opacus/accountants/rdp.py:81\u001b[0m, in \u001b[0;36mRDPAccountant.get_epsilon\u001b[0;34m(self, delta, alphas)\u001b[0m\n\u001b[1;32m     70\u001b[0m \u001b[38;5;28;01mdef\u001b[39;00m \u001b[38;5;21mget_epsilon\u001b[39m(\n\u001b[1;32m     71\u001b[0m     \u001b[38;5;28mself\u001b[39m, delta: \u001b[38;5;28mfloat\u001b[39m, alphas: Optional[List[Union[\u001b[38;5;28mfloat\u001b[39m, \u001b[38;5;28mint\u001b[39m]]] \u001b[38;5;241m=\u001b[39m \u001b[38;5;28;01mNone\u001b[39;00m\n\u001b[1;32m     72\u001b[0m ):\n\u001b[1;32m     73\u001b[0m \u001b[38;5;250m    \u001b[39m\u001b[38;5;124;03m\"\"\"\u001b[39;00m\n\u001b[1;32m     74\u001b[0m \u001b[38;5;124;03m    Return privacy budget (epsilon) expended so far.\u001b[39;00m\n\u001b[1;32m     75\u001b[0m \n\u001b[0;32m   (...)\u001b[0m\n\u001b[1;32m     79\u001b[0m \u001b[38;5;124;03m            between RDP and (epd, delta)-DP\u001b[39;00m\n\u001b[1;32m     80\u001b[0m \u001b[38;5;124;03m    \"\"\"\u001b[39;00m\n\u001b[0;32m---> 81\u001b[0m     eps, _ \u001b[38;5;241m=\u001b[39m \u001b[38;5;28;43mself\u001b[39;49m\u001b[38;5;241;43m.\u001b[39;49m\u001b[43mget_privacy_spent\u001b[49m\u001b[43m(\u001b[49m\u001b[43mdelta\u001b[49m\u001b[38;5;241;43m=\u001b[39;49m\u001b[43mdelta\u001b[49m\u001b[43m,\u001b[49m\u001b[43m \u001b[49m\u001b[43malphas\u001b[49m\u001b[38;5;241;43m=\u001b[39;49m\u001b[43malphas\u001b[49m\u001b[43m)\u001b[49m\n\u001b[1;32m     82\u001b[0m     \u001b[38;5;28;01mreturn\u001b[39;00m eps\n",
      "File \u001b[0;32m~/project/env/lib/python3.10/site-packages/opacus/accountants/rdp.py:65\u001b[0m, in \u001b[0;36mRDPAccountant.get_privacy_spent\u001b[0;34m(self, delta, alphas)\u001b[0m\n\u001b[1;32m     53\u001b[0m     alphas \u001b[38;5;241m=\u001b[39m \u001b[38;5;28mself\u001b[39m\u001b[38;5;241m.\u001b[39mDEFAULT_ALPHAS\n\u001b[1;32m     54\u001b[0m rdp \u001b[38;5;241m=\u001b[39m \u001b[38;5;28msum\u001b[39m(\n\u001b[1;32m     55\u001b[0m     [\n\u001b[1;32m     56\u001b[0m         privacy_analysis\u001b[38;5;241m.\u001b[39mcompute_rdp(\n\u001b[0;32m   (...)\u001b[0m\n\u001b[1;32m     63\u001b[0m     ]\n\u001b[1;32m     64\u001b[0m )\n\u001b[0;32m---> 65\u001b[0m eps, best_alpha \u001b[38;5;241m=\u001b[39m \u001b[43mprivacy_analysis\u001b[49m\u001b[38;5;241;43m.\u001b[39;49m\u001b[43mget_privacy_spent\u001b[49m\u001b[43m(\u001b[49m\n\u001b[1;32m     66\u001b[0m \u001b[43m    \u001b[49m\u001b[43morders\u001b[49m\u001b[38;5;241;43m=\u001b[39;49m\u001b[43malphas\u001b[49m\u001b[43m,\u001b[49m\u001b[43m \u001b[49m\u001b[43mrdp\u001b[49m\u001b[38;5;241;43m=\u001b[39;49m\u001b[43mrdp\u001b[49m\u001b[43m,\u001b[49m\u001b[43m \u001b[49m\u001b[43mdelta\u001b[49m\u001b[38;5;241;43m=\u001b[39;49m\u001b[43mdelta\u001b[49m\n\u001b[1;32m     67\u001b[0m \u001b[43m\u001b[49m\u001b[43m)\u001b[49m\n\u001b[1;32m     68\u001b[0m \u001b[38;5;28;01mreturn\u001b[39;00m \u001b[38;5;28mfloat\u001b[39m(eps), \u001b[38;5;28mfloat\u001b[39m(best_alpha)\n",
      "File \u001b[0;32m~/project/env/lib/python3.10/site-packages/opacus/accountants/analysis/rdp.py:309\u001b[0m, in \u001b[0;36mget_privacy_spent\u001b[0;34m(orders, rdp, delta)\u001b[0m\n\u001b[1;32m    289\u001b[0m \u001b[38;5;28;01mdef\u001b[39;00m \u001b[38;5;21mget_privacy_spent\u001b[39m(\n\u001b[1;32m    290\u001b[0m     \u001b[38;5;241m*\u001b[39m, orders: Union[List[\u001b[38;5;28mfloat\u001b[39m], \u001b[38;5;28mfloat\u001b[39m], rdp: Union[List[\u001b[38;5;28mfloat\u001b[39m], \u001b[38;5;28mfloat\u001b[39m], delta: \u001b[38;5;28mfloat\u001b[39m\n\u001b[1;32m    291\u001b[0m ) \u001b[38;5;241m-\u001b[39m\u001b[38;5;241m>\u001b[39m Tuple[\u001b[38;5;28mfloat\u001b[39m, \u001b[38;5;28mfloat\u001b[39m]:\n\u001b[1;32m    292\u001b[0m \u001b[38;5;250m    \u001b[39m\u001b[38;5;124mr\u001b[39m\u001b[38;5;124;03m\"\"\"Computes epsilon given a list of Renyi Differential Privacy (RDP) values at\u001b[39;00m\n\u001b[1;32m    293\u001b[0m \u001b[38;5;124;03m    multiple RDP orders and target ``delta``.\u001b[39;00m\n\u001b[1;32m    294\u001b[0m \u001b[38;5;124;03m    The computation of epslion, i.e. conversion from RDP to (eps, delta)-DP,\u001b[39;00m\n\u001b[0;32m   (...)\u001b[0m\n\u001b[1;32m    307\u001b[0m \u001b[38;5;124;03m            If the lengths of ``orders`` and ``rdp`` are not equal.\u001b[39;00m\n\u001b[1;32m    308\u001b[0m \u001b[38;5;124;03m    \"\"\"\u001b[39;00m\n\u001b[0;32m--> 309\u001b[0m     orders_vec \u001b[38;5;241m=\u001b[39m \u001b[43mnp\u001b[49m\u001b[38;5;241;43m.\u001b[39;49m\u001b[43matleast_1d\u001b[49m\u001b[43m(\u001b[49m\u001b[43morders\u001b[49m\u001b[43m)\u001b[49m\n\u001b[1;32m    310\u001b[0m     rdp_vec \u001b[38;5;241m=\u001b[39m np\u001b[38;5;241m.\u001b[39matleast_1d(rdp)\n\u001b[1;32m    312\u001b[0m     \u001b[38;5;28;01mif\u001b[39;00m \u001b[38;5;28mlen\u001b[39m(orders_vec) \u001b[38;5;241m!=\u001b[39m \u001b[38;5;28mlen\u001b[39m(rdp_vec):\n",
      "File \u001b[0;32m~/project/env/lib/python3.10/site-packages/numpy/core/shape_base.py:65\u001b[0m, in \u001b[0;36matleast_1d\u001b[0;34m(*arys)\u001b[0m\n\u001b[1;32m      0\u001b[0m <Error retrieving source code with stack_data see ipython/ipython#13598>\n",
      "\u001b[0;31mNameError\u001b[0m: name 'asanyarray' is not defined"
     ]
    }
   ],
   "source": [
    "\n",
    "n = 60000\n",
    "# Create an RDP (Rényi Differential Privacy) accountant\n",
    "\n",
    "# Compute privacy budget\n",
    "# epsilon = accountant.get_privacy_spent(delta=1e-5)\n",
    "accountant.get_epsilon(1e-5)"
   ]
  },
  {
   "cell_type": "code",
   "execution_count": null,
   "metadata": {},
   "outputs": [],
   "source": []
  }
 ],
 "metadata": {
  "kernelspec": {
   "display_name": "env",
   "language": "python",
   "name": "python3"
  },
  "language_info": {
   "codemirror_mode": {
    "name": "ipython",
    "version": 3
   },
   "file_extension": ".py",
   "mimetype": "text/x-python",
   "name": "python",
   "nbconvert_exporter": "python",
   "pygments_lexer": "ipython3",
   "version": "3.10.12"
  }
 },
 "nbformat": 4,
 "nbformat_minor": 2
}
